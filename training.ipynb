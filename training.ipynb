{
 "cells": [
  {
   "cell_type": "code",
   "execution_count": 1,
   "metadata": {},
   "outputs": [],
   "source": [
    "import numpy as np\n",
    "import pandas as pd\n",
    "import seaborn as sb"
   ]
  },
  {
   "cell_type": "code",
   "execution_count": 2,
   "metadata": {},
   "outputs": [],
   "source": [
    "# 한글깨짐 방지\n",
    "import matplotlib.pyplot as plt\n",
    "plt.rcParams['font.family'] ='Malgun Gothic'\n",
    "plt.rcParams['axes.unicode_minus'] =False"
   ]
  },
  {
   "cell_type": "code",
   "execution_count": 3,
   "metadata": {},
   "outputs": [],
   "source": [
    "# 모든 전처리 데이터 불러오기\n",
    "# 호우발생정보, 기상정보, 인구정보, 고도정도, 경사도정보, 산사태취약지점정보\n",
    "df_res_wea = pd.read_csv(\"data/rescue_weather_pp.csv\")\n",
    "df_pop = pd.read_csv(\"data/pop_pp.csv\")\n",
    "df_alt_full = pd.read_csv(\"data/altitude_full_pp.csv\")\n",
    "df_alt_avg = pd.read_csv(\"data/altitude_avg_pp.csv\")\n",
    "df_slope_full = pd.read_csv(\"data/slope_full_pp.csv\")\n",
    "df_slope_avg = pd.read_csv(\"data/slope_avg_pp.csv\")\n",
    "df_landslide = pd.read_csv(\"data/landslide_pp.csv\")"
   ]
  },
  {
   "cell_type": "code",
   "execution_count": 4,
   "metadata": {},
   "outputs": [],
   "source": [
    "# 출동데이터랑 인구데이터 merge\n",
    "df_res_wea['year'] = df_res_wea['TIME'].apply(lambda x: pd.to_datetime(x)).dt.year\n",
    "df_pop.rename(columns={'법정동명': 'EMD_NAME', '법정동코드': 'EMD_CD'}, inplace=True)"
   ]
  },
  {
   "cell_type": "code",
   "execution_count": 5,
   "metadata": {},
   "outputs": [],
   "source": [
    "# 연도에 맞는 인구데이터 붙이기\n",
    "df_full = pd.merge(df_res_wea, df_pop, how='left', on='EMD_CD')\n",
    "for i in range(len(df_full)):\n",
    "    df_full.loc[i, 'pop'] = df_full.loc[i, str(df_full.loc[i, 'year'])]"
   ]
  },
  {
   "cell_type": "code",
   "execution_count": 6,
   "metadata": {},
   "outputs": [
    {
     "data": {
      "text/html": [
       "<div>\n",
       "<style scoped>\n",
       "    .dataframe tbody tr th:only-of-type {\n",
       "        vertical-align: middle;\n",
       "    }\n",
       "\n",
       "    .dataframe tbody tr th {\n",
       "        vertical-align: top;\n",
       "    }\n",
       "\n",
       "    .dataframe thead th {\n",
       "        text-align: right;\n",
       "    }\n",
       "</style>\n",
       "<table border=\"1\" class=\"dataframe\">\n",
       "  <thead>\n",
       "    <tr style=\"text-align: right;\">\n",
       "      <th></th>\n",
       "      <th>EMD_CD</th>\n",
       "      <th>EMD_NAME</th>\n",
       "      <th>LON</th>\n",
       "      <th>LAT</th>\n",
       "      <th>TIME</th>\n",
       "      <th>TYPE</th>\n",
       "      <th>AVG_TEMP</th>\n",
       "      <th>MIN_TEMP</th>\n",
       "      <th>MAX_TEMP</th>\n",
       "      <th>DAY_PRE</th>\n",
       "      <th>MAX_WSPEED</th>\n",
       "      <th>AVG_WSPEED</th>\n",
       "      <th>LABEL</th>\n",
       "      <th>year</th>\n",
       "      <th>pop</th>\n",
       "    </tr>\n",
       "  </thead>\n",
       "  <tbody>\n",
       "    <tr>\n",
       "      <th>0</th>\n",
       "      <td>44760310</td>\n",
       "      <td>충청남도 부여군 규암면</td>\n",
       "      <td>126.884171</td>\n",
       "      <td>36.275284</td>\n",
       "      <td>2014-08-25 07:29:00</td>\n",
       "      <td>호우주의보</td>\n",
       "      <td>23.2</td>\n",
       "      <td>21.9</td>\n",
       "      <td>25.5</td>\n",
       "      <td>34.0</td>\n",
       "      <td>5.6</td>\n",
       "      <td>1.2</td>\n",
       "      <td>0</td>\n",
       "      <td>2014</td>\n",
       "      <td>10366.0</td>\n",
       "    </tr>\n",
       "    <tr>\n",
       "      <th>1</th>\n",
       "      <td>44760420</td>\n",
       "      <td>충청남도 부여군 장암면</td>\n",
       "      <td>126.886455</td>\n",
       "      <td>36.243935</td>\n",
       "      <td>2014-08-25 10:00:00</td>\n",
       "      <td>호우주의보</td>\n",
       "      <td>23.2</td>\n",
       "      <td>21.9</td>\n",
       "      <td>25.5</td>\n",
       "      <td>34.0</td>\n",
       "      <td>5.6</td>\n",
       "      <td>1.2</td>\n",
       "      <td>0</td>\n",
       "      <td>2014</td>\n",
       "      <td>3120.0</td>\n",
       "    </tr>\n",
       "    <tr>\n",
       "      <th>2</th>\n",
       "      <td>44760350</td>\n",
       "      <td>충청남도 부여군 구룡면</td>\n",
       "      <td>126.812825</td>\n",
       "      <td>36.252592</td>\n",
       "      <td>2014-08-25 10:39:00</td>\n",
       "      <td>호우주의보</td>\n",
       "      <td>23.2</td>\n",
       "      <td>21.9</td>\n",
       "      <td>25.5</td>\n",
       "      <td>34.0</td>\n",
       "      <td>5.6</td>\n",
       "      <td>1.2</td>\n",
       "      <td>0</td>\n",
       "      <td>2014</td>\n",
       "      <td>2657.0</td>\n",
       "    </tr>\n",
       "  </tbody>\n",
       "</table>\n",
       "</div>"
      ],
      "text/plain": [
       "     EMD_CD      EMD_NAME         LON        LAT                 TIME   TYPE  \\\n",
       "0  44760310  충청남도 부여군 규암면  126.884171  36.275284  2014-08-25 07:29:00  호우주의보   \n",
       "1  44760420  충청남도 부여군 장암면  126.886455  36.243935  2014-08-25 10:00:00  호우주의보   \n",
       "2  44760350  충청남도 부여군 구룡면  126.812825  36.252592  2014-08-25 10:39:00  호우주의보   \n",
       "\n",
       "   AVG_TEMP  MIN_TEMP  MAX_TEMP  DAY_PRE  MAX_WSPEED  AVG_WSPEED  LABEL  year  \\\n",
       "0      23.2      21.9      25.5     34.0         5.6         1.2      0  2014   \n",
       "1      23.2      21.9      25.5     34.0         5.6         1.2      0  2014   \n",
       "2      23.2      21.9      25.5     34.0         5.6         1.2      0  2014   \n",
       "\n",
       "       pop  \n",
       "0  10366.0  \n",
       "1   3120.0  \n",
       "2   2657.0  "
      ]
     },
     "execution_count": 6,
     "metadata": {},
     "output_type": "execute_result"
    }
   ],
   "source": [
    "# 인구데이터 떼기\n",
    "df_full.drop(columns=[str(i) for i in range(2014, 2024)] + ['EMD_NAME_y'], inplace=True)\n",
    "df_full.rename(columns={'EMD_NAME_x': 'EMD_NAME'}, inplace=True)\n",
    "df_full.head(3)"
   ]
  },
  {
   "cell_type": "code",
   "execution_count": 7,
   "metadata": {},
   "outputs": [
    {
     "data": {
      "text/html": [
       "<div>\n",
       "<style scoped>\n",
       "    .dataframe tbody tr th:only-of-type {\n",
       "        vertical-align: middle;\n",
       "    }\n",
       "\n",
       "    .dataframe tbody tr th {\n",
       "        vertical-align: top;\n",
       "    }\n",
       "\n",
       "    .dataframe thead th {\n",
       "        text-align: right;\n",
       "    }\n",
       "</style>\n",
       "<table border=\"1\" class=\"dataframe\">\n",
       "  <thead>\n",
       "    <tr style=\"text-align: right;\">\n",
       "      <th></th>\n",
       "      <th>EMD_CD</th>\n",
       "      <th>EMD_NAME</th>\n",
       "      <th>LON</th>\n",
       "      <th>LAT</th>\n",
       "      <th>TIME</th>\n",
       "      <th>TYPE</th>\n",
       "      <th>AVG_TEMP</th>\n",
       "      <th>MIN_TEMP</th>\n",
       "      <th>MAX_TEMP</th>\n",
       "      <th>DAY_PRE</th>\n",
       "      <th>...</th>\n",
       "      <th>600~700m</th>\n",
       "      <th>700~800m</th>\n",
       "      <th>800~900m</th>\n",
       "      <th>0~5deg</th>\n",
       "      <th>5~10deg</th>\n",
       "      <th>10~15deg</th>\n",
       "      <th>15~20deg</th>\n",
       "      <th>20~25deg</th>\n",
       "      <th>25~30deg</th>\n",
       "      <th>30~35deg</th>\n",
       "    </tr>\n",
       "  </thead>\n",
       "  <tbody>\n",
       "    <tr>\n",
       "      <th>0</th>\n",
       "      <td>44760310</td>\n",
       "      <td>충청남도 부여군 규암면</td>\n",
       "      <td>126.884171</td>\n",
       "      <td>36.275284</td>\n",
       "      <td>2014-08-25 07:29:00</td>\n",
       "      <td>호우주의보</td>\n",
       "      <td>23.2</td>\n",
       "      <td>21.9</td>\n",
       "      <td>25.5</td>\n",
       "      <td>34.0</td>\n",
       "      <td>...</td>\n",
       "      <td>0.0</td>\n",
       "      <td>0.0</td>\n",
       "      <td>0.0</td>\n",
       "      <td>53.29</td>\n",
       "      <td>11.12</td>\n",
       "      <td>9.57</td>\n",
       "      <td>9.68</td>\n",
       "      <td>8.05</td>\n",
       "      <td>4.77</td>\n",
       "      <td>3.52</td>\n",
       "    </tr>\n",
       "    <tr>\n",
       "      <th>1</th>\n",
       "      <td>44760420</td>\n",
       "      <td>충청남도 부여군 장암면</td>\n",
       "      <td>126.886455</td>\n",
       "      <td>36.243935</td>\n",
       "      <td>2014-08-25 10:00:00</td>\n",
       "      <td>호우주의보</td>\n",
       "      <td>23.2</td>\n",
       "      <td>21.9</td>\n",
       "      <td>25.5</td>\n",
       "      <td>34.0</td>\n",
       "      <td>...</td>\n",
       "      <td>0.0</td>\n",
       "      <td>0.0</td>\n",
       "      <td>0.0</td>\n",
       "      <td>33.64</td>\n",
       "      <td>12.43</td>\n",
       "      <td>14.32</td>\n",
       "      <td>15.28</td>\n",
       "      <td>12.60</td>\n",
       "      <td>7.38</td>\n",
       "      <td>4.35</td>\n",
       "    </tr>\n",
       "    <tr>\n",
       "      <th>2</th>\n",
       "      <td>44760350</td>\n",
       "      <td>충청남도 부여군 구룡면</td>\n",
       "      <td>126.812825</td>\n",
       "      <td>36.252592</td>\n",
       "      <td>2014-08-25 10:39:00</td>\n",
       "      <td>호우주의보</td>\n",
       "      <td>23.2</td>\n",
       "      <td>21.9</td>\n",
       "      <td>25.5</td>\n",
       "      <td>34.0</td>\n",
       "      <td>...</td>\n",
       "      <td>0.0</td>\n",
       "      <td>0.0</td>\n",
       "      <td>0.0</td>\n",
       "      <td>50.22</td>\n",
       "      <td>13.89</td>\n",
       "      <td>11.29</td>\n",
       "      <td>9.44</td>\n",
       "      <td>7.06</td>\n",
       "      <td>4.23</td>\n",
       "      <td>3.87</td>\n",
       "    </tr>\n",
       "  </tbody>\n",
       "</table>\n",
       "<p>3 rows × 35 columns</p>\n",
       "</div>"
      ],
      "text/plain": [
       "     EMD_CD      EMD_NAME         LON        LAT                 TIME   TYPE  \\\n",
       "0  44760310  충청남도 부여군 규암면  126.884171  36.275284  2014-08-25 07:29:00  호우주의보   \n",
       "1  44760420  충청남도 부여군 장암면  126.886455  36.243935  2014-08-25 10:00:00  호우주의보   \n",
       "2  44760350  충청남도 부여군 구룡면  126.812825  36.252592  2014-08-25 10:39:00  호우주의보   \n",
       "\n",
       "   AVG_TEMP  MIN_TEMP  MAX_TEMP  DAY_PRE  ...  600~700m  700~800m  800~900m  \\\n",
       "0      23.2      21.9      25.5     34.0  ...       0.0       0.0       0.0   \n",
       "1      23.2      21.9      25.5     34.0  ...       0.0       0.0       0.0   \n",
       "2      23.2      21.9      25.5     34.0  ...       0.0       0.0       0.0   \n",
       "\n",
       "   0~5deg  5~10deg  10~15deg  15~20deg  20~25deg  25~30deg  30~35deg  \n",
       "0   53.29    11.12      9.57      9.68      8.05      4.77      3.52  \n",
       "1   33.64    12.43     14.32     15.28     12.60      7.38      4.35  \n",
       "2   50.22    13.89     11.29      9.44      7.06      4.23      3.87  \n",
       "\n",
       "[3 rows x 35 columns]"
      ]
     },
     "execution_count": 7,
     "metadata": {},
     "output_type": "execute_result"
    }
   ],
   "source": [
    "# 고도 데이터 및 경사 데이터 붙이기\n",
    "df_full = pd.merge(df_full, df_alt_avg, how='left', on=['EMD_CD', 'EMD_NAME'])\n",
    "df_full = pd.merge(df_full, df_slope_avg, how='left', on=['EMD_CD', 'EMD_NAME'])\n",
    "df_full = pd.merge(df_full, df_alt_full, how='left', on=['EMD_CD', 'EMD_NAME'])\n",
    "df_full = pd.merge(df_full, df_slope_full, how='left', on=['EMD_CD', 'EMD_NAME'])\n",
    "df_full.head(3)"
   ]
  },
  {
   "cell_type": "code",
   "execution_count": 8,
   "metadata": {},
   "outputs": [
    {
     "data": {
      "text/html": [
       "<div>\n",
       "<style scoped>\n",
       "    .dataframe tbody tr th:only-of-type {\n",
       "        vertical-align: middle;\n",
       "    }\n",
       "\n",
       "    .dataframe tbody tr th {\n",
       "        vertical-align: top;\n",
       "    }\n",
       "\n",
       "    .dataframe thead th {\n",
       "        text-align: right;\n",
       "    }\n",
       "</style>\n",
       "<table border=\"1\" class=\"dataframe\">\n",
       "  <thead>\n",
       "    <tr style=\"text-align: right;\">\n",
       "      <th></th>\n",
       "      <th>EMD_CD</th>\n",
       "      <th>EMD_NAME</th>\n",
       "      <th>LON</th>\n",
       "      <th>LAT</th>\n",
       "      <th>TIME</th>\n",
       "      <th>TYPE</th>\n",
       "      <th>AVG_TEMP</th>\n",
       "      <th>MIN_TEMP</th>\n",
       "      <th>MAX_TEMP</th>\n",
       "      <th>DAY_PRE</th>\n",
       "      <th>...</th>\n",
       "      <th>600~700m</th>\n",
       "      <th>700~800m</th>\n",
       "      <th>800~900m</th>\n",
       "      <th>0~5deg</th>\n",
       "      <th>5~10deg</th>\n",
       "      <th>10~15deg</th>\n",
       "      <th>15~20deg</th>\n",
       "      <th>20~25deg</th>\n",
       "      <th>25~30deg</th>\n",
       "      <th>30~35deg</th>\n",
       "    </tr>\n",
       "  </thead>\n",
       "  <tbody>\n",
       "    <tr>\n",
       "      <th>0</th>\n",
       "      <td>44760310</td>\n",
       "      <td>충청남도 부여군 규암면</td>\n",
       "      <td>126.884171</td>\n",
       "      <td>36.275284</td>\n",
       "      <td>2014-08-25 07:29:00</td>\n",
       "      <td>호우주의보</td>\n",
       "      <td>23.2</td>\n",
       "      <td>21.9</td>\n",
       "      <td>25.5</td>\n",
       "      <td>34.0</td>\n",
       "      <td>...</td>\n",
       "      <td>0.0</td>\n",
       "      <td>0.0</td>\n",
       "      <td>0.0</td>\n",
       "      <td>0.5329</td>\n",
       "      <td>0.1112</td>\n",
       "      <td>0.0957</td>\n",
       "      <td>0.0968</td>\n",
       "      <td>0.0805</td>\n",
       "      <td>0.0477</td>\n",
       "      <td>0.0352</td>\n",
       "    </tr>\n",
       "    <tr>\n",
       "      <th>1</th>\n",
       "      <td>44760420</td>\n",
       "      <td>충청남도 부여군 장암면</td>\n",
       "      <td>126.886455</td>\n",
       "      <td>36.243935</td>\n",
       "      <td>2014-08-25 10:00:00</td>\n",
       "      <td>호우주의보</td>\n",
       "      <td>23.2</td>\n",
       "      <td>21.9</td>\n",
       "      <td>25.5</td>\n",
       "      <td>34.0</td>\n",
       "      <td>...</td>\n",
       "      <td>0.0</td>\n",
       "      <td>0.0</td>\n",
       "      <td>0.0</td>\n",
       "      <td>0.3364</td>\n",
       "      <td>0.1243</td>\n",
       "      <td>0.1432</td>\n",
       "      <td>0.1528</td>\n",
       "      <td>0.1260</td>\n",
       "      <td>0.0738</td>\n",
       "      <td>0.0435</td>\n",
       "    </tr>\n",
       "    <tr>\n",
       "      <th>2</th>\n",
       "      <td>44760350</td>\n",
       "      <td>충청남도 부여군 구룡면</td>\n",
       "      <td>126.812825</td>\n",
       "      <td>36.252592</td>\n",
       "      <td>2014-08-25 10:39:00</td>\n",
       "      <td>호우주의보</td>\n",
       "      <td>23.2</td>\n",
       "      <td>21.9</td>\n",
       "      <td>25.5</td>\n",
       "      <td>34.0</td>\n",
       "      <td>...</td>\n",
       "      <td>0.0</td>\n",
       "      <td>0.0</td>\n",
       "      <td>0.0</td>\n",
       "      <td>0.5022</td>\n",
       "      <td>0.1389</td>\n",
       "      <td>0.1129</td>\n",
       "      <td>0.0944</td>\n",
       "      <td>0.0706</td>\n",
       "      <td>0.0423</td>\n",
       "      <td>0.0387</td>\n",
       "    </tr>\n",
       "  </tbody>\n",
       "</table>\n",
       "<p>3 rows × 35 columns</p>\n",
       "</div>"
      ],
      "text/plain": [
       "     EMD_CD      EMD_NAME         LON        LAT                 TIME   TYPE  \\\n",
       "0  44760310  충청남도 부여군 규암면  126.884171  36.275284  2014-08-25 07:29:00  호우주의보   \n",
       "1  44760420  충청남도 부여군 장암면  126.886455  36.243935  2014-08-25 10:00:00  호우주의보   \n",
       "2  44760350  충청남도 부여군 구룡면  126.812825  36.252592  2014-08-25 10:39:00  호우주의보   \n",
       "\n",
       "   AVG_TEMP  MIN_TEMP  MAX_TEMP  DAY_PRE  ...  600~700m  700~800m  800~900m  \\\n",
       "0      23.2      21.9      25.5     34.0  ...       0.0       0.0       0.0   \n",
       "1      23.2      21.9      25.5     34.0  ...       0.0       0.0       0.0   \n",
       "2      23.2      21.9      25.5     34.0  ...       0.0       0.0       0.0   \n",
       "\n",
       "   0~5deg  5~10deg  10~15deg  15~20deg  20~25deg  25~30deg  30~35deg  \n",
       "0  0.5329   0.1112    0.0957    0.0968    0.0805    0.0477    0.0352  \n",
       "1  0.3364   0.1243    0.1432    0.1528    0.1260    0.0738    0.0435  \n",
       "2  0.5022   0.1389    0.1129    0.0944    0.0706    0.0423    0.0387  \n",
       "\n",
       "[3 rows x 35 columns]"
      ]
     },
     "execution_count": 8,
     "metadata": {},
     "output_type": "execute_result"
    }
   ],
   "source": [
    "# 고도 및 경사도 비율들은 전처리를 100으로 나누어 줌\n",
    "pp_col = [\n",
    "    '0~10m','10~50m','50~100m','100~200m','200~300m','300~400m','400~500m',\n",
    "    '500~600m','600~700m','700~800m','800~900m',\n",
    "    '0~5deg','5~10deg','10~15deg','15~20deg','20~25deg','25~30deg','30~35deg'\n",
    "]\n",
    "\n",
    "for col in pp_col:\n",
    "    df_full[col] /= 100.\n",
    "\n",
    "df_full.head(3)"
   ]
  },
  {
   "cell_type": "code",
   "execution_count": 9,
   "metadata": {},
   "outputs": [
    {
     "data": {
      "text/html": [
       "<div>\n",
       "<style scoped>\n",
       "    .dataframe tbody tr th:only-of-type {\n",
       "        vertical-align: middle;\n",
       "    }\n",
       "\n",
       "    .dataframe tbody tr th {\n",
       "        vertical-align: top;\n",
       "    }\n",
       "\n",
       "    .dataframe thead th {\n",
       "        text-align: right;\n",
       "    }\n",
       "</style>\n",
       "<table border=\"1\" class=\"dataframe\">\n",
       "  <thead>\n",
       "    <tr style=\"text-align: right;\">\n",
       "      <th></th>\n",
       "      <th>EMD_CD</th>\n",
       "      <th>landslide_cnt</th>\n",
       "    </tr>\n",
       "  </thead>\n",
       "  <tbody>\n",
       "    <tr>\n",
       "      <th>0</th>\n",
       "      <td>44131250</td>\n",
       "      <td>1</td>\n",
       "    </tr>\n",
       "    <tr>\n",
       "      <th>1</th>\n",
       "      <td>44131320</td>\n",
       "      <td>2</td>\n",
       "    </tr>\n",
       "    <tr>\n",
       "      <th>2</th>\n",
       "      <td>44131330</td>\n",
       "      <td>3</td>\n",
       "    </tr>\n",
       "  </tbody>\n",
       "</table>\n",
       "</div>"
      ],
      "text/plain": [
       "     EMD_CD  landslide_cnt\n",
       "0  44131250              1\n",
       "1  44131320              2\n",
       "2  44131330              3"
      ]
     },
     "execution_count": 9,
     "metadata": {},
     "output_type": "execute_result"
    }
   ],
   "source": [
    "# 산사태 취약지역 법정동별로 세기\n",
    "df_land_count = pd.DataFrame(df_landslide.loc[:, ['법정동코드', '지정일']].groupby(['법정동코드']).count()).reset_index()\n",
    "df_land_count.rename(columns={'법정동코드': 'EMD_CD', '지정일': 'landslide_cnt'}, inplace=True)\n",
    "df_land_count.head(3)"
   ]
  },
  {
   "cell_type": "code",
   "execution_count": 10,
   "metadata": {},
   "outputs": [],
   "source": [
    "# 기존 데이터와 merge\n",
    "df_full = pd.merge(df_full, df_land_count, how='left', on='EMD_CD')"
   ]
  },
  {
   "cell_type": "code",
   "execution_count": 11,
   "metadata": {},
   "outputs": [
    {
     "name": "stdout",
     "output_type": "stream",
     "text": [
      "<class 'pandas.core.frame.DataFrame'>\n",
      "RangeIndex: 6597 entries, 0 to 6596\n",
      "Data columns (total 36 columns):\n",
      " #   Column         Non-Null Count  Dtype  \n",
      "---  ------         --------------  -----  \n",
      " 0   EMD_CD         6597 non-null   int64  \n",
      " 1   EMD_NAME       6597 non-null   object \n",
      " 2   LON            6597 non-null   float64\n",
      " 3   LAT            6597 non-null   float64\n",
      " 4   TIME           6597 non-null   object \n",
      " 5   TYPE           6597 non-null   object \n",
      " 6   AVG_TEMP       6597 non-null   float64\n",
      " 7   MIN_TEMP       6597 non-null   float64\n",
      " 8   MAX_TEMP       6597 non-null   float64\n",
      " 9   DAY_PRE        6597 non-null   float64\n",
      " 10  MAX_WSPEED     6597 non-null   float64\n",
      " 11  AVG_WSPEED     6597 non-null   float64\n",
      " 12  LABEL          6597 non-null   int64  \n",
      " 13  year           6597 non-null   int32  \n",
      " 14  pop            6597 non-null   float64\n",
      " 15  AVG_ALT        6597 non-null   float64\n",
      " 16  AVG_SLOP       6597 non-null   float64\n",
      " 17  0~10m          6597 non-null   float64\n",
      " 18  10~50m         6597 non-null   float64\n",
      " 19  50~100m        6597 non-null   float64\n",
      " 20  100~200m       6597 non-null   float64\n",
      " 21  200~300m       6597 non-null   float64\n",
      " 22  300~400m       6597 non-null   float64\n",
      " 23  400~500m       6597 non-null   float64\n",
      " 24  500~600m       6597 non-null   float64\n",
      " 25  600~700m       6597 non-null   float64\n",
      " 26  700~800m       6597 non-null   float64\n",
      " 27  800~900m       6597 non-null   float64\n",
      " 28  0~5deg         6597 non-null   float64\n",
      " 29  5~10deg        6597 non-null   float64\n",
      " 30  10~15deg       6597 non-null   float64\n",
      " 31  15~20deg       6597 non-null   float64\n",
      " 32  20~25deg       6597 non-null   float64\n",
      " 33  25~30deg       6597 non-null   float64\n",
      " 34  30~35deg       6597 non-null   float64\n",
      " 35  landslide_cnt  6597 non-null   float64\n",
      "dtypes: float64(30), int32(1), int64(2), object(3)\n",
      "memory usage: 1.8+ MB\n"
     ]
    }
   ],
   "source": [
    "# 취약지역 없는 부분은 결측치로 표시되므로 0으로 채우기\n",
    "df_full['landslide_cnt'].fillna(0., inplace=True)\n",
    "df_full.info()"
   ]
  },
  {
   "cell_type": "code",
   "execution_count": 12,
   "metadata": {},
   "outputs": [
    {
     "data": {
      "text/html": [
       "<div>\n",
       "<style scoped>\n",
       "    .dataframe tbody tr th:only-of-type {\n",
       "        vertical-align: middle;\n",
       "    }\n",
       "\n",
       "    .dataframe tbody tr th {\n",
       "        vertical-align: top;\n",
       "    }\n",
       "\n",
       "    .dataframe thead th {\n",
       "        text-align: right;\n",
       "    }\n",
       "</style>\n",
       "<table border=\"1\" class=\"dataframe\">\n",
       "  <thead>\n",
       "    <tr style=\"text-align: right;\">\n",
       "      <th></th>\n",
       "      <th>LON</th>\n",
       "      <th>LAT</th>\n",
       "      <th>AVG_TEMP</th>\n",
       "      <th>MIN_TEMP</th>\n",
       "      <th>MAX_TEMP</th>\n",
       "      <th>DAY_PRE</th>\n",
       "      <th>MAX_WSPEED</th>\n",
       "      <th>AVG_WSPEED</th>\n",
       "      <th>POP</th>\n",
       "      <th>AVG_ALT</th>\n",
       "      <th>...</th>\n",
       "      <th>700~800m</th>\n",
       "      <th>800~900m</th>\n",
       "      <th>0~5deg</th>\n",
       "      <th>5~10deg</th>\n",
       "      <th>10~15deg</th>\n",
       "      <th>15~20deg</th>\n",
       "      <th>20~25deg</th>\n",
       "      <th>25~30deg</th>\n",
       "      <th>30~35deg</th>\n",
       "      <th>LABEL</th>\n",
       "    </tr>\n",
       "  </thead>\n",
       "  <tbody>\n",
       "    <tr>\n",
       "      <th>0</th>\n",
       "      <td>126.884171</td>\n",
       "      <td>36.275284</td>\n",
       "      <td>23.2</td>\n",
       "      <td>21.9</td>\n",
       "      <td>25.5</td>\n",
       "      <td>34.0</td>\n",
       "      <td>5.6</td>\n",
       "      <td>1.2</td>\n",
       "      <td>10366.0</td>\n",
       "      <td>30.7625</td>\n",
       "      <td>...</td>\n",
       "      <td>0.0</td>\n",
       "      <td>0.0</td>\n",
       "      <td>0.5329</td>\n",
       "      <td>0.1112</td>\n",
       "      <td>0.0957</td>\n",
       "      <td>0.0968</td>\n",
       "      <td>0.0805</td>\n",
       "      <td>0.0477</td>\n",
       "      <td>0.0352</td>\n",
       "      <td>0</td>\n",
       "    </tr>\n",
       "    <tr>\n",
       "      <th>1</th>\n",
       "      <td>126.886455</td>\n",
       "      <td>36.243935</td>\n",
       "      <td>23.2</td>\n",
       "      <td>21.9</td>\n",
       "      <td>25.5</td>\n",
       "      <td>34.0</td>\n",
       "      <td>5.6</td>\n",
       "      <td>1.2</td>\n",
       "      <td>3120.0</td>\n",
       "      <td>49.5275</td>\n",
       "      <td>...</td>\n",
       "      <td>0.0</td>\n",
       "      <td>0.0</td>\n",
       "      <td>0.3364</td>\n",
       "      <td>0.1243</td>\n",
       "      <td>0.1432</td>\n",
       "      <td>0.1528</td>\n",
       "      <td>0.1260</td>\n",
       "      <td>0.0738</td>\n",
       "      <td>0.0435</td>\n",
       "      <td>0</td>\n",
       "    </tr>\n",
       "    <tr>\n",
       "      <th>2</th>\n",
       "      <td>126.812825</td>\n",
       "      <td>36.252592</td>\n",
       "      <td>23.2</td>\n",
       "      <td>21.9</td>\n",
       "      <td>25.5</td>\n",
       "      <td>34.0</td>\n",
       "      <td>5.6</td>\n",
       "      <td>1.2</td>\n",
       "      <td>2657.0</td>\n",
       "      <td>38.9295</td>\n",
       "      <td>...</td>\n",
       "      <td>0.0</td>\n",
       "      <td>0.0</td>\n",
       "      <td>0.5022</td>\n",
       "      <td>0.1389</td>\n",
       "      <td>0.1129</td>\n",
       "      <td>0.0944</td>\n",
       "      <td>0.0706</td>\n",
       "      <td>0.0423</td>\n",
       "      <td>0.0387</td>\n",
       "      <td>0</td>\n",
       "    </tr>\n",
       "  </tbody>\n",
       "</table>\n",
       "<p>3 rows × 31 columns</p>\n",
       "</div>"
      ],
      "text/plain": [
       "          LON        LAT  AVG_TEMP  MIN_TEMP  MAX_TEMP  DAY_PRE  MAX_WSPEED  \\\n",
       "0  126.884171  36.275284      23.2      21.9      25.5     34.0         5.6   \n",
       "1  126.886455  36.243935      23.2      21.9      25.5     34.0         5.6   \n",
       "2  126.812825  36.252592      23.2      21.9      25.5     34.0         5.6   \n",
       "\n",
       "   AVG_WSPEED      POP  AVG_ALT  ...  700~800m  800~900m  0~5deg  5~10deg  \\\n",
       "0         1.2  10366.0  30.7625  ...       0.0       0.0  0.5329   0.1112   \n",
       "1         1.2   3120.0  49.5275  ...       0.0       0.0  0.3364   0.1243   \n",
       "2         1.2   2657.0  38.9295  ...       0.0       0.0  0.5022   0.1389   \n",
       "\n",
       "   10~15deg  15~20deg  20~25deg  25~30deg  30~35deg  LABEL  \n",
       "0    0.0957    0.0968    0.0805    0.0477    0.0352      0  \n",
       "1    0.1432    0.1528    0.1260    0.0738    0.0435      0  \n",
       "2    0.1129    0.0944    0.0706    0.0423    0.0387      0  \n",
       "\n",
       "[3 rows x 31 columns]"
      ]
     },
     "execution_count": 12,
     "metadata": {},
     "output_type": "execute_result"
    }
   ],
   "source": [
    "# 미사용 컬럼 제거 및 이름 바꾸기\n",
    "df_full.drop(columns=[\n",
    "    'EMD_CD', 'EMD_NAME', 'TIME', 'TYPE', 'year'\n",
    "], inplace=True)\n",
    "\n",
    "df_full.rename(columns={\n",
    "    'pop': 'POP',\n",
    "    'landslide_cnt': 'LAND_CNT'\n",
    "}, inplace=True)\n",
    "\n",
    "cols = df_full.columns.tolist()\n",
    "cols.remove('LABEL')\n",
    "cols.remove('LAND_CNT')\n",
    "df_full = df_full.loc[:, cols[:11] + ['LAND_CNT'] + cols[11:] + ['LABEL']]\n",
    "df_full.head(3)"
   ]
  },
  {
   "cell_type": "code",
   "execution_count": 13,
   "metadata": {},
   "outputs": [],
   "source": [
    "# 데이터 배열 형식으로 추가\n",
    "data_X_need_scale = np.array(df_full.iloc[:, :12])\n",
    "data_X_not_scale = np.array(df_full.iloc[:, 12:-1])\n",
    "data_y = np.array(df_full.iloc[:, -1])"
   ]
  },
  {
   "cell_type": "code",
   "execution_count": 14,
   "metadata": {},
   "outputs": [],
   "source": [
    "# 스케일 필요한 데이터만 스케일링\n",
    "from sklearn.preprocessing import MinMaxScaler\n",
    "\n",
    "scaler = MinMaxScaler()\n",
    "scaler.fit(data_X_need_scale)\n",
    "data_X_scaled = scaler.transform(data_X_need_scale)"
   ]
  },
  {
   "cell_type": "code",
   "execution_count": 15,
   "metadata": {},
   "outputs": [
    {
     "name": "stdout",
     "output_type": "stream",
     "text": [
      "(6597, 30) (6597,)\n"
     ]
    }
   ],
   "source": [
    "# 스케일링 필요없는 데이터와 concat\n",
    "data_X = np.concatenate([data_X_scaled, data_X_not_scale], axis=1)\n",
    "print(data_X.shape, data_y.shape)"
   ]
  },
  {
   "cell_type": "code",
   "execution_count": 16,
   "metadata": {},
   "outputs": [
    {
     "data": {
      "text/plain": [
       "<Axes: >"
      ]
     },
     "execution_count": 16,
     "metadata": {},
     "output_type": "execute_result"
    },
    {
     "data": {
      "image/png": "[encoded data removed]",
      "text/plain": [
       "<Figure size 640x480 with 1 Axes>"
      ]
     },
     "metadata": {},
     "output_type": "display_data"
    }
   ],
   "source": [
    "# 라벨 분포 확인\n",
    "# 비울 상 오버/언더샘플링은 필요 없을 것으로 보임\n",
    "label_dist = pd.DataFrame(data=data_y, columns=['LABEL']).value_counts().reset_index(drop=True)\n",
    "sb.barplot(x=label_dist.index, y=label_dist.values)"
   ]
  },
  {
   "cell_type": "code",
   "execution_count": 17,
   "metadata": {},
   "outputs": [
    {
     "data": {
      "text/plain": [
       "<Axes: >"
      ]
     },
     "execution_count": 17,
     "metadata": {},
     "output_type": "execute_result"
    },
    {
     "data": {
      "image/png": "[encoded data removed]",
      "text/plain": [
       "<Figure size 640x480 with 2 Axes>"
      ]
     },
     "metadata": {},
     "output_type": "display_data"
    }
   ],
   "source": [
    "# 상관관계 분석\n",
    "# 라벨과 각 피쳐 간 상관관계가 생각보다 크지 않음\n",
    "df_scaled = pd.DataFrame(np.concatenate([data_X, data_y.reshape(-1, 1)], axis=1), columns=df_full.columns)\n",
    "corr = df_scaled.corr()\n",
    "sb.heatmap(corr, cmap='coolwarm_r')"
   ]
  },
  {
   "cell_type": "code",
   "execution_count": 18,
   "metadata": {},
   "outputs": [
    {
     "data": {
      "text/plain": [
       "['LON',\n",
       " 'LAT',\n",
       " 'AVG_TEMP',\n",
       " 'MIN_TEMP',\n",
       " 'DAY_PRE',\n",
       " 'MAX_WSPEED',\n",
       " 'POP',\n",
       " 'AVG_ALT',\n",
       " 'AVG_SLOP',\n",
       " 'LAND_CNT',\n",
       " '10~50m',\n",
       " '50~100m',\n",
       " '100~200m',\n",
       " '200~300m',\n",
       " '300~400m',\n",
       " '400~500m',\n",
       " '500~600m',\n",
       " '0~5deg',\n",
       " '5~10deg',\n",
       " '20~25deg',\n",
       " '25~30deg',\n",
       " '30~35deg',\n",
       " 'LABEL']"
      ]
     },
     "execution_count": 18,
     "metadata": {},
     "output_type": "execute_result"
    }
   ],
   "source": [
    "# 일단 상관관계 계수가 0.05 미만이면 사용하지 않기로 조정\n",
    "corr_cols = ['LON'] + corr['LABEL'][corr['LABEL'].apply(lambda x: abs(x) >= 0.05)].index.tolist()\n",
    "corr_cols"
   ]
  },
  {
   "cell_type": "code",
   "execution_count": 19,
   "metadata": {},
   "outputs": [
    {
     "name": "stdout",
     "output_type": "stream",
     "text": [
      "(6597, 22) (6597,)\n"
     ]
    }
   ],
   "source": [
    "# 선별된 컬럼으로 데이터 구성\n",
    "X_data = np.array(df_scaled.loc[:, corr_cols].iloc[:, :-1])\n",
    "y_data = np.array(df_scaled.loc[:, corr_cols].iloc[:, -1])\n",
    "print(X_data.shape, y_data.shape)"
   ]
  },
  {
   "cell_type": "markdown",
   "metadata": {},
   "source": [
    "## 학습 한 번 돌려보기"
   ]
  },
  {
   "cell_type": "code",
   "execution_count": 47,
   "metadata": {},
   "outputs": [],
   "source": [
    "# 학습 및 테스트 데이터 스플릿\n",
    "from sklearn.model_selection import train_test_split, cross_val_score\n",
    "\n",
    "X_train, X_val, y_train, y_val = train_test_split(X_data, y_data, test_size=0.2, random_state=121, stratify=y_data)"
   ]
  },
  {
   "cell_type": "code",
   "execution_count": 54,
   "metadata": {},
   "outputs": [],
   "source": [
    "from sklearn.linear_model import LogisticRegression\n",
    "from sklearn.ensemble import RandomForestClassifier\n",
    "from lightgbm import LGBMClassifier\n",
    "from xgboost import XGBClassifier\n",
    "from sklearn.model_selection import GridSearchCV\n",
    "\n",
    "from sklearn.metrics import accuracy_score, recall_score, precision_score, f1_score, roc_auc_score"
   ]
  },
  {
   "cell_type": "code",
   "execution_count": 49,
   "metadata": {},
   "outputs": [],
   "source": [
    "def get_clf_eval(y_test, y_pred):\n",
    "    accuracy = accuracy_score(y_test, y_pred)\n",
    "    precision = precision_score(y_test, y_pred)\n",
    "    recall = recall_score(y_test, y_pred)\n",
    "    f1 = f1_score(y_test, y_pred)\n",
    "    auc = roc_auc_score(y_test, y_pred)\n",
    "    print(\"Accuracy:\", accuracy)\n",
    "    print(\"Precision:\", precision)\n",
    "    print(\"Recall:\", recall)\n",
    "    print(\"F1 score:\", f1)\n",
    "    print(\"ROC AUC score:\", auc)"
   ]
  },
  {
   "cell_type": "code",
   "execution_count": 50,
   "metadata": {},
   "outputs": [
    {
     "name": "stdout",
     "output_type": "stream",
     "text": [
      "LogisticRegression\n",
      "Accuracy: 0.803030303030303\n",
      "Precision: 0.5963855421686747\n",
      "Recall: 0.339041095890411\n",
      "F1 score: 0.43231441048034935\n",
      "ROC AUC score: 0.6369329993070733\n"
     ]
    }
   ],
   "source": [
    "# 로지스틱 회귀\n",
    "logistic_cls = LogisticRegression(random_state=121)\n",
    "logistic_cls.fit(X_train, y_train)\n",
    "y_pred = logistic_cls.predict(X_val)\n",
    "print(\"LogisticRegression\")\n",
    "get_clf_eval(y_val, y_pred)"
   ]
  },
  {
   "cell_type": "code",
   "execution_count": 51,
   "metadata": {},
   "outputs": [
    {
     "name": "stdout",
     "output_type": "stream",
     "text": [
      "RandomForest\n",
      "Accuracy: 0.821969696969697\n",
      "Precision: 0.6144578313253012\n",
      "Recall: 0.523972602739726\n",
      "F1 score: 0.5656192236598891\n",
      "ROC AUC score: 0.715293694365972\n"
     ]
    }
   ],
   "source": [
    "# 랜덤포레스트\n",
    "randomforest_cls = RandomForestClassifier(random_state=121)\n",
    "randomforest_cls.fit(X_train, y_train)\n",
    "y_pred = randomforest_cls.predict(X_val)\n",
    "print(\"RandomForest\")\n",
    "get_clf_eval(y_val, y_pred)"
   ]
  },
  {
   "cell_type": "code",
   "execution_count": 52,
   "metadata": {},
   "outputs": [
    {
     "name": "stdout",
     "output_type": "stream",
     "text": [
      "LightGBM\n",
      "Accuracy: 0.8265151515151515\n",
      "Precision: 0.6307053941908713\n",
      "Recall: 0.5205479452054794\n",
      "F1 score: 0.5703564727954973\n",
      "ROC AUC score: 0.716986034859549\n"
     ]
    }
   ],
   "source": [
    "# LightGBM\n",
    "eval = [(X_val, y_val)]\n",
    "lgbm_cls = LGBMClassifier(n_estimators=400)\n",
    "lgbm_cls.fit(X_train, y_train, eval_metric='logloss', eval_set=eval)\n",
    "y_pred = lgbm_cls.predict(X_val)\n",
    "print(\"LightGBM\")\n",
    "get_clf_eval(y_val, y_pred)"
   ]
  },
  {
   "cell_type": "code",
   "execution_count": 53,
   "metadata": {},
   "outputs": [
    {
     "name": "stdout",
     "output_type": "stream",
     "text": [
      "XGBoost\n",
      "Accuracy: 0.8227272727272728\n",
      "Precision: 0.6260869565217392\n",
      "Recall: 0.4931506849315068\n",
      "F1 score: 0.5517241379310345\n",
      "ROC AUC score: 0.7047465486914343\n"
     ]
    }
   ],
   "source": [
    "# XGBoost\n",
    "xgb_cls = XGBClassifier(n_estimators=500, learning_rate=0.2, max_depth=4, random_state = 32)\n",
    "xgb_cls.fit(X_train, y_train)\n",
    "y_pred = xgb_cls.predict(X_val)\n",
    "print(\"XGBoost\")\n",
    "get_clf_eval(y_val, y_pred)"
   ]
  },
  {
   "cell_type": "markdown",
   "metadata": {},
   "source": [
    "## 모델별 하이퍼파라미터 튜닝"
   ]
  },
  {
   "cell_type": "code",
   "execution_count": 63,
   "metadata": {},
   "outputs": [],
   "source": [
    "# 로지스틱 회귀\n",
    "lr_params = {\n",
    "    'penalty': ['l2'], \n",
    "    'C': [0.001, 0.01, 0.1, 1, 10, 100, 1000]\n",
    "}\n",
    "\n",
    "lr_grid = GridSearchCV(LogisticRegression(max_iter=5000), lr_params, cv=5)\n",
    "lr_grid.fit(X_train, y_train)\n",
    "lr_best = lr_grid.best_estimator_"
   ]
  },
  {
   "cell_type": "code",
   "execution_count": 71,
   "metadata": {},
   "outputs": [
    {
     "name": "stdout",
     "output_type": "stream",
     "text": [
      "Logistic Regression Paramter: {'C': 1, 'penalty': 'l2'}\n"
     ]
    }
   ],
   "source": [
    "print('Logistic Regression Paramter:', lr_grid.best_params_)"
   ]
  },
  {
   "cell_type": "code",
   "execution_count": 64,
   "metadata": {},
   "outputs": [
    {
     "name": "stdout",
     "output_type": "stream",
     "text": [
      "Logistic Regression\n",
      "Accuracy: 0.80\n",
      "Precision: 0.34\n",
      "Recall: 0.60\n",
      "F1 score: 0.43\n",
      "ROC AUC score: 0.71\n"
     ]
    }
   ],
   "source": [
    "lr_y_pred = lr_best.predict(X_val)\n",
    "lr_acc = accuracy_score(lr_y_pred, y_val)\n",
    "lr_precision = precision_score(lr_y_pred, y_val)\n",
    "lr_recall = recall_score(lr_y_pred, y_val)\n",
    "lr_f1 = f1_score(lr_y_pred, y_val)\n",
    "lr_auc = roc_auc_score(lr_y_pred, y_val)\n",
    "print(\"Logistic Regression\")\n",
    "print(\"Accuracy: {:.2f}\".format(lr_acc))\n",
    "print(\"Precision: {:.2f}\".format(lr_precision))\n",
    "print(\"Recall: {:.2f}\".format(lr_recall))\n",
    "print(\"F1 score: {:.2f}\".format(lr_f1))\n",
    "print(\"ROC AUC score: {:.2f}\".format(lr_auc))"
   ]
  },
  {
   "cell_type": "code",
   "execution_count": null,
   "metadata": {},
   "outputs": [],
   "source": [
    "# 랜덤 포레스트\n",
    "rf_params = {\n",
    "    'n_estimators' : [100, 200, 300], \n",
    "    'max_depth' : [4, 6, 8], \n",
    "    'min_samples_leaf' : [8, 12, 18, 20], \n",
    "    'min_samples_split' : [6, 8, 16]\n",
    "}\n",
    "\n",
    "rf_grid = GridSearchCV(RandomForestClassifier(), rf_params, cv=5)\n",
    "rf_grid.fit(X_train, y_train)\n",
    "rf_best = rf_grid.best_estimator_"
   ]
  },
  {
   "cell_type": "code",
   "execution_count": 68,
   "metadata": {},
   "outputs": [
    {
     "name": "stdout",
     "output_type": "stream",
     "text": [
      "Random Forest Paramter: {'max_depth': 8, 'min_samples_leaf': 12, 'min_samples_split': 8, 'n_estimators': 200}\n"
     ]
    }
   ],
   "source": [
    "# 최고성능 파라미터\n",
    "print('Random Forest Paramter:', rf_grid.best_params_)"
   ]
  },
  {
   "cell_type": "code",
   "execution_count": 73,
   "metadata": {},
   "outputs": [
    {
     "name": "stdout",
     "output_type": "stream",
     "text": [
      "Random Forest\n",
      "Accuracy: 0.82\n",
      "Precision: 0.33\n",
      "Recall: 0.67\n",
      "F1 score: 0.44\n",
      "ROC AUC score: 0.75\n"
     ]
    }
   ],
   "source": [
    "rf_y_pred = rf_best.predict(X_val)\n",
    "rf_acc = accuracy_score(rf_y_pred, y_val)\n",
    "rf_precision = precision_score(rf_y_pred, y_val)\n",
    "rf_recall = recall_score(rf_y_pred, y_val)\n",
    "rf_f1 = f1_score(rf_y_pred, y_val)\n",
    "rf_auc = roc_auc_score(rf_y_pred, y_val)\n",
    "print(\"Random Forest\")\n",
    "print(\"Accuracy: {:.2f}\".format(rf_acc))\n",
    "print(\"Precision: {:.2f}\".format(rf_precision))\n",
    "print(\"Recall: {:.2f}\".format(rf_recall))\n",
    "print(\"F1 score: {:.2f}\".format(rf_f1))\n",
    "print(\"ROC AUC score: {:.2f}\".format(rf_auc))"
   ]
  },
  {
   "cell_type": "code",
   "execution_count": 74,
   "metadata": {},
   "outputs": [],
   "source": [
    "# LightGBM\n",
    "lgbm_params = {\n",
    "    \"learning_rate\" : [0.01,0.1,0.2,0.3,0.4,0.5],\n",
    "    \"max_depth\" : [25, 50, 75],\n",
    "    \"num_leaves\" : [100,300,500,900,1200],\n",
    "    \"n_estimators\" : [100, 200, 300,500,800,1000],\n",
    "    \"learning_rate\" : [0.01,0.1,0.2,0.3,0.4,0.5]\n",
    "}\n",
    "\n",
    "lgbm_grid = GridSearchCV(LGBMClassifier(), lgbm_params, cv=5)\n",
    "lgbm_grid.fit(X_train, y_train)\n",
    "lgbm_best = lgbm_grid.best_estimator_"
   ]
  },
  {
   "cell_type": "code",
   "execution_count": 77,
   "metadata": {},
   "outputs": [
    {
     "name": "stdout",
     "output_type": "stream",
     "text": [
      "LightGBM Parameter: {'learning_rate': 0.01, 'max_depth': 50, 'n_estimators': 200, 'num_leaves': 100}\n"
     ]
    }
   ],
   "source": [
    "# 최고성능 파라미터\n",
    "print('LightGBM Parameter:', lgbm_grid.best_params_)"
   ]
  },
  {
   "cell_type": "code",
   "execution_count": 78,
   "metadata": {},
   "outputs": [
    {
     "name": "stdout",
     "output_type": "stream",
     "text": [
      "LightGBM\n",
      "Accuracy: 0.82\n",
      "Precision: 0.41\n",
      "Recall: 0.64\n",
      "F1 score: 0.50\n",
      "ROC AUC score: 0.74\n"
     ]
    }
   ],
   "source": [
    "lgbm_y_pred = lgbm_best.predict(X_val)\n",
    "lgbm_acc = accuracy_score(lgbm_y_pred, y_val)\n",
    "lgbm_precision = precision_score(lgbm_y_pred, y_val)\n",
    "lgbm_recall = recall_score(lgbm_y_pred, y_val)\n",
    "lgbm_f1 = f1_score(lgbm_y_pred, y_val)\n",
    "lgbm_auc = roc_auc_score(lgbm_y_pred, y_val)\n",
    "print(\"LightGBM\")\n",
    "print(\"Accuracy: {:.2f}\".format(lgbm_acc))\n",
    "print(\"Precision: {:.2f}\".format(lgbm_precision))\n",
    "print(\"Recall: {:.2f}\".format(lgbm_recall))\n",
    "print(\"F1 score: {:.2f}\".format(lgbm_f1))\n",
    "print(\"ROC AUC score: {:.2f}\".format(lgbm_auc))"
   ]
  },
  {
   "cell_type": "code",
   "execution_count": 79,
   "metadata": {},
   "outputs": [],
   "source": [
    "# XGBoost\n",
    "xgb_params = {\n",
    "    \"max_depth\": [10,30,50],\n",
    "    \"min_child_weight\" : [1,3,6,10],\n",
    "    \"n_estimators\": [200,300,500,1000]\n",
    "} \n",
    "\n",
    "xgb_grid = GridSearchCV(XGBClassifier(), xgb_params, cv=5)\n",
    "xgb_grid.fit(X_train, y_train)\n",
    "xgb_best = xgb_grid.best_estimator_"
   ]
  },
  {
   "cell_type": "code",
   "execution_count": 82,
   "metadata": {},
   "outputs": [
    {
     "name": "stdout",
     "output_type": "stream",
     "text": [
      "XGBoost Parameter: {'max_depth': 30, 'min_child_weight': 1, 'n_estimators': 200}\n"
     ]
    }
   ],
   "source": [
    "# 최고성능 파라미터\n",
    "print('XGBoost Parameter:', xgb_grid.best_params_)"
   ]
  },
  {
   "cell_type": "code",
   "execution_count": 81,
   "metadata": {},
   "outputs": [
    {
     "name": "stdout",
     "output_type": "stream",
     "text": [
      "XGBoost\n",
      "Accuracy: 0.82\n",
      "Precision: 0.52\n",
      "Recall: 0.63\n",
      "F1 score: 0.57\n",
      "ROC AUC score: 0.75\n"
     ]
    }
   ],
   "source": [
    "xgb_y_pred = xgb_best.predict(X_val)\n",
    "xgb_acc = accuracy_score(xgb_y_pred, y_val)\n",
    "xgb_precision = precision_score(xgb_y_pred, y_val)\n",
    "xgb_recall = recall_score(xgb_y_pred, y_val)\n",
    "xgb_f1 = f1_score(xgb_y_pred, y_val)\n",
    "xgb_auc = roc_auc_score(xgb_y_pred, y_val)\n",
    "print(\"XGBoost\")\n",
    "print(\"Accuracy: {:.2f}\".format(xgb_acc))\n",
    "print(\"Precision: {:.2f}\".format(xgb_precision))\n",
    "print(\"Recall: {:.2f}\".format(xgb_recall))\n",
    "print(\"F1 score: {:.2f}\".format(xgb_f1))\n",
    "print(\"ROC AUC score: {:.2f}\".format(xgb_auc))"
   ]
  },
  {
   "cell_type": "code",
   "execution_count": 102,
   "metadata": {},
   "outputs": [
    {
     "data": {
      "text/html": [
       "<div>\n",
       "<style scoped>\n",
       "    .dataframe tbody tr th:only-of-type {\n",
       "        vertical-align: middle;\n",
       "    }\n",
       "\n",
       "    .dataframe tbody tr th {\n",
       "        vertical-align: top;\n",
       "    }\n",
       "\n",
       "    .dataframe thead th {\n",
       "        text-align: right;\n",
       "    }\n",
       "</style>\n",
       "<table border=\"1\" class=\"dataframe\">\n",
       "  <thead>\n",
       "    <tr style=\"text-align: right;\">\n",
       "      <th></th>\n",
       "      <th>LogisticRegression</th>\n",
       "      <th>RandomForest</th>\n",
       "      <th>LightGBM</th>\n",
       "      <th>XGBoost</th>\n",
       "    </tr>\n",
       "  </thead>\n",
       "  <tbody>\n",
       "    <tr>\n",
       "      <th>accuracy</th>\n",
       "      <td>0.80303</td>\n",
       "      <td>0.815152</td>\n",
       "      <td>0.818182</td>\n",
       "      <td>0.825</td>\n",
       "    </tr>\n",
       "    <tr>\n",
       "      <th>precision</th>\n",
       "      <td>0.339041</td>\n",
       "      <td>0.325342</td>\n",
       "      <td>0.410959</td>\n",
       "      <td>0.517123</td>\n",
       "    </tr>\n",
       "    <tr>\n",
       "      <th>recall</th>\n",
       "      <td>0.596386</td>\n",
       "      <td>0.669014</td>\n",
       "      <td>0.638298</td>\n",
       "      <td>0.626556</td>\n",
       "    </tr>\n",
       "    <tr>\n",
       "      <th>f1 score</th>\n",
       "      <td>0.432314</td>\n",
       "      <td>0.437788</td>\n",
       "      <td>0.5</td>\n",
       "      <td>0.566604</td>\n",
       "    </tr>\n",
       "    <tr>\n",
       "      <th>roc auc score</th>\n",
       "      <td>0.714571</td>\n",
       "      <td>0.750891</td>\n",
       "      <td>0.743177</td>\n",
       "      <td>0.74794</td>\n",
       "    </tr>\n",
       "  </tbody>\n",
       "</table>\n",
       "</div>"
      ],
      "text/plain": [
       "              LogisticRegression RandomForest  LightGBM   XGBoost\n",
       "accuracy                 0.80303     0.815152  0.818182     0.825\n",
       "precision               0.339041     0.325342  0.410959  0.517123\n",
       "recall                  0.596386     0.669014  0.638298  0.626556\n",
       "f1 score                0.432314     0.437788       0.5  0.566604\n",
       "roc auc score           0.714571     0.750891  0.743177   0.74794"
      ]
     },
     "execution_count": 102,
     "metadata": {},
     "output_type": "execute_result"
    }
   ],
   "source": [
    "# 학습 결과 정리\n",
    "results = [\n",
    "    [\"LogisticRegression\", lr_acc, lr_precision, lr_recall, lr_f1, lr_auc],\n",
    "    [\"RandomForest\", rf_acc, rf_precision, rf_recall, rf_f1, rf_auc],\n",
    "    [\"LightGBM\", lgbm_acc, lgbm_precision, lgbm_recall, lgbm_f1, lgbm_auc],\n",
    "    [\"XGBoost\", xgb_acc, xgb_precision, xgb_recall, xgb_f1, xgb_auc]\n",
    "]\n",
    "\n",
    "df_results = pd.DataFrame(results, columns=['algorithm', 'accuracy', 'precision', 'recall','f1 score', 'roc auc score'])\n",
    "df_results = df_results.transpose()\n",
    "df_results = df_results.iloc[1:, :]\n",
    "df_results.rename(columns={\n",
    "    0: 'LogisticRegression',\n",
    "    1: 'RandomForest',\n",
    "    2: 'LightGBM',\n",
    "    3: 'XGBoost',\n",
    "}, inplace=True)\n",
    "\n",
    "df_results"
   ]
  },
  {
   "cell_type": "code",
   "execution_count": 103,
   "metadata": {},
   "outputs": [
    {
     "data": {
      "text/plain": [
       "<Axes: >"
      ]
     },
     "execution_count": 103,
     "metadata": {},
     "output_type": "execute_result"
    },
    {
     "data": {
      "image/png": "[encoded data removed]",
      "text/plain": [
       "<Figure size 640x480 with 1 Axes>"
      ]
     },
     "metadata": {},
     "output_type": "display_data"
    }
   ],
   "source": [
    "# 결과 비교 그래프\n",
    "df_results.plot.bar()"
   ]
  },
  {
   "cell_type": "code",
   "execution_count": 104,
   "metadata": {},
   "outputs": [
    {
     "data": {
      "text/plain": [
       "['xgb_best.pkl']"
      ]
     },
     "execution_count": 104,
     "metadata": {},
     "output_type": "execute_result"
    }
   ],
   "source": [
    "# 학습된 모델들은 모두 저장\n",
    "import joblib\n",
    "\n",
    "joblib.dump(lr_best, 'models/lr_best.pkl')\n",
    "joblib.dump(rf_best, 'models/rf_best.pkl')\n",
    "joblib.dump(lgbm_best, 'models/lgbm_best.pkl')\n",
    "joblib.dump(xgb_best, 'models/xgb_best.pkl')"
   ]
  },
  {
   "cell_type": "markdown",
   "metadata": {},
   "source": [
    "## 해야할것\n",
    "- XGBoost를 사용할 것임\n",
    "- 호우동안 데이터 취합해서 평균도 내고 이런식으로 지역별 예측에 필요한 데이터 가공\n",
    "- 가공 데이터 기반으로 각 지역별 출동 확률로 표시"
   ]
  }
 ],
 "metadata": {
  "kernelspec": {
   "display_name": "base",
   "language": "python",
   "name": "python3"
  },
  "language_info": {
   "codemirror_mode": {
    "name": "ipython",
    "version": 3
   },
   "file_extension": ".py",
   "mimetype": "text/x-python",
   "name": "python",
   "nbconvert_exporter": "python",
   "pygments_lexer": "ipython3",
   "version": "3.11.7"
  }
 },
 "nbformat": 4,
 "nbformat_minor": 2
}
