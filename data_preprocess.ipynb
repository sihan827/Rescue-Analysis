{
 "cells": [
  {
   "cell_type": "code",
   "execution_count": 1,
   "metadata": {},
   "outputs": [],
   "source": [
    "import numpy as np\n",
    "import pandas as pd\n",
    "import xlrd"
   ]
  },
  {
   "cell_type": "code",
   "execution_count": 74,
   "metadata": {},
   "outputs": [],
   "source": [
    "## 2014\n",
    "data = xlrd.open_workbook_xls(\"data/raw/2014.xls\")\n",
    "sheet = data['2014년']\n",
    "data = [[sheet.cell_value(r, c) for c in range(sheet.ncols)] for r in range(sheet.nrows)]\n",
    "df_2014 = pd.DataFrame(data[1:], columns=data[0])\n",
    "\n",
    "df_2014['신고시간'] = pd.to_datetime(df_2014['신고년월일'] + \" \" + df_2014['신고시각'])\n",
    "df_2014['출동시간'] = df_2014['출동년월일'] + \" \" + df_2014['출동시각']\n",
    "df_2014['사고장소'] = df_2014['사고장소코드명'] + \" \" + df_2014['사고장소기타내역'] + \" \" + df_2014['사고장소관계자명']\n",
    "df_2014['사고원인'] = df_2014['사고원인코드명_사고종별'] + \" \" + df_2014['사고종별상세코드명'] + \" \" + df_2014['사고원인기타내역_사고종별']\n",
    "df_2014.drop(['신고년월일', '신고시각', '출동년월일', '출동시각', '사고장소코드명', '사고장소기타내역', '사고장소관계자명', '사고원인코드명_사고종별', '사고종별상세코드명', '사고원인기타내역_사고종별', '현행기준'], axis=1, inplace=True)\n",
    "df_2014 = df_2014.loc[:, ['출동소방서', '신고시간', '출동시간', '발생장소_시', '발생장소_구', '발생장소_동', '발생장소_리', '번지', '상세주소', '관할구분코드명', '사고장소', '사고원인', '활동내역']]\n",
    "df_2014['사망'] = \"\"\n",
    "df_2014['특보종류'] = \"\"\n",
    "df_2014['시'] = df_2014['발생장소_구'].apply(lambda x: x[:2])"
   ]
  },
  {
   "cell_type": "code",
   "execution_count": 75,
   "metadata": {},
   "outputs": [],
   "source": [
    "## 2015\n",
    "data = xlrd.open_workbook_xls(\"data/raw/2015.xls\")\n",
    "sheet = data['2015년']\n",
    "data = [[sheet.cell_value(r, c) for c in range(sheet.ncols)] for r in range(sheet.nrows)]\n",
    "df_2015 = pd.DataFrame(data[1:], columns=data[0])\n",
    "\n",
    "df_2015['신고시간'] = pd.to_datetime(df_2015['신고년월일'] + \" \" + df_2015['신고시각'])\n",
    "df_2015['출동시간'] = df_2015['출동년월일'] + \" \" + df_2015['출동시각']\n",
    "df_2015['사고장소'] = df_2015['사고장소코드명'] + \" \" + df_2015['사고장소기타내역'] + \" \" + df_2015['사고장소관계자명']\n",
    "df_2015['사고원인'] = df_2015['사고원인코드명_사고종별'] + \" \" + df_2015['사고종별상세코드명'] + \" \" + df_2015['사고원인기타내역_사고종별']\n",
    "df_2015.drop(['신고년월일', '신고시각', '출동년월일', '출동시각', '사고장소코드명', '사고장소기타내역', '사고장소관계자명', '사고원인코드명_사고종별', '사고종별상세코드명', '사고원인기타내역_사고종별', '현행분류'], axis=1, inplace=True)\n",
    "df_2015 = df_2015.loc[:, ['출동소방서', '신고시간', '출동시간', '발생장소_시', '발생장소_구', '발생장소_동', '발생장소_리', '번지', '상세주소', '관할구분코드명', '사고장소', '사고원인', '활동내역']]\n",
    "df_2015['사망'] = \"\"\n",
    "df_2015['특보종류'] = \"\"\n",
    "df_2015['시'] = df_2015['발생장소_구'].apply(lambda x: x[:2])"
   ]
  },
  {
   "cell_type": "code",
   "execution_count": 76,
   "metadata": {},
   "outputs": [],
   "source": [
    "## 2016\n",
    "data = xlrd.open_workbook_xls(\"data/raw/2016.xls\")\n",
    "sheet = data['2016년']\n",
    "data = [[sheet.cell_value(r, c) for c in range(sheet.ncols)] for r in range(sheet.nrows)]\n",
    "df_2016 = pd.DataFrame(data[1:], columns=data[0])\n",
    "\n",
    "df_2016['신고시간'] = pd.to_datetime(df_2016['신고년월일'] + \" \" + df_2016['신고시각'])\n",
    "df_2016['출동시간'] = df_2016['출동년월일'].astype(str) + \" \" + df_2016['출동시각'].astype(str)\n",
    "df_2016['사고장소'] = df_2016['사고장소코드명'] + \" \" + df_2016['사고장소기타내역'] + \" \" + df_2016['사고장소관계자명']\n",
    "df_2016['사고원인'] = df_2016['사고원인코드명_사고종별'] + \" \" + df_2016['사고종별'] + \" \" + df_2016['사고종별상세코드명'] + \" \" + df_2016['사고원인기타내역_사고종별']\n",
    "df_2016.drop(['신고년월일', '신고시각', '출동년월일', '출동시각', '사고장소코드명', '사고장소기타내역', '사고장소관계자명', '사고원인코드명_사고종별', '사고종별', '사고종별상세코드명', '사고원인기타내역_사고종별'], axis=1, inplace=True)\n",
    "df_2016 = df_2016.loc[:, ['출동소방서', '신고시간', '출동시간', '발생장소_시', '발생장소_구', '발생장소_동', '발생장소_리', '번지', '상세주소', '관할구분코드명', '사고장소', '사고원인', '활동내역']]\n",
    "df_2016['사망'] = \"\"\n",
    "df_2016['특보종류'] = \"\"\n",
    "df_2016['시'] = df_2016['발생장소_구'].apply(lambda x: x[:2])"
   ]
  },
  {
   "cell_type": "code",
   "execution_count": 77,
   "metadata": {},
   "outputs": [],
   "source": [
    "## 2017\n",
    "data = xlrd.open_workbook_xls(\"data/raw/2017.xls\")\n",
    "sheet = data['2017년']\n",
    "data = [[sheet.cell_value(r, c) for c in range(sheet.ncols)] for r in range(sheet.nrows)]\n",
    "df_2017 = pd.DataFrame(data[1:], columns=data[0])\n",
    "\n",
    "df_2017['신고시간'] = pd.to_datetime(df_2017['신고년월일'] + \" \" + df_2017['신고시각'])\n",
    "df_2017['출동시간'] = df_2017['출동년월일'] + \" \" + df_2017['출동시각']\n",
    "df_2017['사고장소'] = df_2017['사고장소코드명'] + \" \" + df_2017['사고장소기타내역'] + \" \" + df_2017['사고장소관계자명']\n",
    "df_2017['사고원인'] = df_2017['사고원인'] + \" \" + df_2017['사고원인코드명_사고종별'] + \" \" + df_2017['사고종별상세코드명'] + \" \" + df_2017['사고원인기타내역_사고종별']\n",
    "df_2017.drop(['신고년월일', '신고시각', '출동년월일', '출동시각', '사고장소코드명', '사고장소기타내역', '사고장소관계자명', '사고원인코드명_사고종별', '사고종별상세코드명', '사고원인기타내역_사고종별'], axis=1, inplace=True)\n",
    "df_2017 = df_2017.loc[:, ['출동소방서', '신고시간', '출동시간', '발생장소_시', '발생장소_구', '발생장소_동', '발생장소_리', '번지', '상세주소', '관할구분코드명', '사고장소', '사고원인', '활동내역']]\n",
    "df_2017['사망'] = \"\"\n",
    "df_2017['특보종류'] = \"\"\n",
    "df_2017['시'] = df_2017['발생장소_구'].apply(lambda x: x[:2])"
   ]
  },
  {
   "cell_type": "code",
   "execution_count": 78,
   "metadata": {},
   "outputs": [],
   "source": [
    "## 2018\n",
    "data = xlrd.open_workbook_xls(\"data/raw/2018.xls\")\n",
    "sheet = data['2018년']\n",
    "data = [[sheet.cell_value(r, c) for c in range(sheet.ncols)] for r in range(sheet.nrows)]\n",
    "df_2018 = pd.DataFrame(data[1:], columns=data[0])\n",
    "\n",
    "df_2018['신고시간'] = pd.to_datetime(df_2018['신고년월일'] + \" \" + df_2018['신고시각'])\n",
    "df_2018['출동시간'] = df_2018['출동년월일'] + \" \" + df_2018['출동시각']\n",
    "df_2018['사고장소'] = df_2018['사고장소코드명'] + \" \" + df_2018['사고장소기타내역'] + \" \" + df_2018['사고장소관계자명']\n",
    "df_2018['사고원인'] = df_2018['사고원인'] + \" \" +df_2018['사고원인코드명_사고종별'] + \" \" + df_2018['사고종별상세코드명'] + \" \" + df_2018['사고원인기타내역_사고종별']\n",
    "df_2018.drop(['신고년월일', '신고시각', '출동년월일', '출동시각', '사고장소코드명', '사고장소기타내역', '사고장소관계자명', '사고원인코드명_사고종별', '사고종별상세코드명', '사고원인기타내역_사고종별'], axis=1, inplace=True)\n",
    "df_2018 = df_2018.loc[:, ['출동소방서', '신고시간', '출동시간', '발생장소_시', '발생장소_구', '발생장소_동', '발생장소_리', '번지', '상세주소', '관할구분코드명', '사고장소', '사고원인', '활동내역']]\n",
    "df_2018['사망'] = \"\"\n",
    "df_2018['특보종류'] = \"\"\n",
    "df_2018['시'] = df_2018['발생장소_구'].apply(lambda x: x[:2])"
   ]
  },
  {
   "cell_type": "code",
   "execution_count": 79,
   "metadata": {},
   "outputs": [],
   "source": [
    "## 2019\n",
    "data = xlrd.open_workbook_xls(\"data/raw/2019.xls\")\n",
    "sheet = data['2019년']\n",
    "data = [[sheet.cell_value(r, c) for c in range(sheet.ncols)] for r in range(sheet.nrows)]\n",
    "df_2019 = pd.DataFrame(data[1:], columns=data[0])\n",
    "\n",
    "df_2019['신고시간'] = pd.to_datetime(df_2019['신고년월일'] + \" \" + df_2019['신고시각'])\n",
    "df_2019['출동시간'] = df_2019['출동년월일'] + \" \" + df_2019['출동시각']\n",
    "df_2019['사고장소'] = df_2019['사고장소코드명'] + \" \" + df_2019['사고장소기타내역'] + \" \" + df_2019['사고장소관계자명']\n",
    "df_2019['사고원인'] = df_2019['사고원인'] + \" \" + df_2019['사고원인코드명_사고종별'] + \" \" + df_2019['사고종별상세코드명'] + \" \" + df_2019['사고원인기타내역_사고종별']\n",
    "df_2019.drop(['신고년월일', '신고시각', '출동년월일', '출동시각', '사고장소코드명', '사고장소기타내역', '사고장소관계자명', '사고원인코드명_사고종별', '사고종별상세코드명', '사고원인기타내역_사고종별'], axis=1, inplace=True)\n",
    "df_2019 = df_2019.loc[:, ['출동소방서', '신고시간', '출동시간', '발생장소_시', '발생장소_구', '발생장소_동', '발생장소_리', '번지', '상세주소', '관할구분코드명', '사고장소', '사고원인', '활동내역']]\n",
    "df_2019['사망'] = \"\"\n",
    "df_2019['특보종류'] = \"\"\n",
    "df_2019['시'] = df_2019['발생장소_구'].apply(lambda x: x[:2])"
   ]
  },
  {
   "cell_type": "code",
   "execution_count": 80,
   "metadata": {},
   "outputs": [],
   "source": [
    "## 2020\n",
    "data = xlrd.open_workbook_xls(\"data/raw/2020.xls\")\n",
    "sheet = data['2020년']\n",
    "data = [[sheet.cell_value(r, c) for c in range(sheet.ncols)] for r in range(sheet.nrows)]\n",
    "df_2020 = pd.DataFrame(data[1:], columns=data[0])\n",
    "\n",
    "df_2020['신고시간'] = pd.to_datetime(df_2020['신고년월일'] + \" \" + df_2020['신고시각'])\n",
    "df_2020['출동시간'] = df_2020['출동년월일'] + \" \" + df_2020['출동시각']\n",
    "df_2020['사고장소'] = df_2020['사고장소코드명'] + \" \" + df_2020['사고장소기타내역'] + \" \" + df_2020['사고장소관계자명']\n",
    "df_2020['사고원인'] = df_2020['사고원인'] + \" \" + df_2020['사고원인코드명_사고종별'] + \" \" + df_2020['사고종별상세코드명'] + \" \" + df_2020['사고원인기타내역_사고종별']\n",
    "df_2020.drop(['신고년월일', '신고시각', '출동년월일', '출동시각', '사고장소코드명', '사고장소기타내역', '사고장소관계자명', '사고원인코드명_사고종별', '사고종별상세코드명', '사고원인기타내역_사고종별'], axis=1, inplace=True)\n",
    "df_2020 = df_2020.loc[:, ['출동소방서', '신고시간', '출동시간', '발생장소_시', '발생장소_구', '발생장소_동', '발생장소_리', '번지', '상세주소', '관할구분코드명', '사고장소', '사고원인', '활동내역']]\n",
    "df_2020['사망'] = \"\"\n",
    "df_2020['특보종류'] = \"\"\n",
    "df_2020['시'] = df_2020['발생장소_구'].apply(lambda x: x[:2])"
   ]
  },
  {
   "cell_type": "code",
   "execution_count": 81,
   "metadata": {},
   "outputs": [],
   "source": [
    "## 2021\n",
    "data = xlrd.open_workbook_xls(\"data/raw/2021.xls\")\n",
    "sheet = data['2021년']\n",
    "data = [[sheet.cell_value(r, c) for c in range(sheet.ncols)] for r in range(sheet.nrows)]\n",
    "df_2021 = pd.DataFrame(data[1:], columns=data[0])\n",
    "\n",
    "df_2021['신고시간'] = pd.to_datetime(df_2021['신고년월일'] + \" \" + df_2021['신고시각'])\n",
    "df_2021['출동시간'] = df_2021['출동년월일'] + \" \" + df_2021['출동시각']\n",
    "df_2021['사고장소'] = df_2021['사고장소코드명'] + \" \" + df_2021['사고장소기타내역'] + \" \" + df_2021['사고장소관계자명']\n",
    "df_2021['사고원인'] = df_2021['사고원인'] + \" \" + df_2021['사고원인코드명_사고종별'] + \" \" + df_2021['사고종별상세코드명'] + \" \" + df_2021['사고원인기타내역_사고종별']\n",
    "df_2021.drop(['신고년월일', '신고시각', '출동년월일', '출동시각', '사고장소코드명', '사고장소기타내역', '사고장소관계자명', '사고원인코드명_사고종별', '사고종별상세코드명', '사고원인기타내역_사고종별'], axis=1, inplace=True)\n",
    "df_2021 = df_2021.loc[:, ['출동소방서', '신고시간', '출동시간', '발생장소_시', '발생장소_구', '발생장소_동', '발생장소_리', '번지', '상세주소', '관할구분코드명', '사고장소', '사고원인', '활동내역']]\n",
    "df_2021['사망'] = \"\"\n",
    "df_2021['특보종류'] = \"\"\n",
    "df_2021['시'] = df_2021['발생장소_구'].apply(lambda x: x[:2])"
   ]
  },
  {
   "cell_type": "code",
   "execution_count": 82,
   "metadata": {},
   "outputs": [],
   "source": [
    "## 2022\n",
    "#### 2022 1~2\n",
    "data = xlrd.open_workbook_xls(\"data/raw/2022 1~2.xls\")\n",
    "sheet = data['2022년']\n",
    "data = [[sheet.cell_value(r, c) for c in range(sheet.ncols)] for r in range(sheet.nrows)]\n",
    "df_2022_1 = pd.DataFrame(data[1:], columns=data[0])\n",
    "\n",
    "df_2022_1['신고시간'] = pd.to_datetime(df_2022_1['신고년월일'] + \" \" + df_2022_1['신고시각'])\n",
    "df_2022_1['출동시간'] = df_2022_1['출동년월일'] + \" \" + df_2022_1['출동시각']\n",
    "df_2022_1['사고장소'] = df_2022_1['사고장소코드명'] + \" \" + df_2022_1['사고장소기타내역'] + \" \" + df_2022_1['사고장소관계자명']\n",
    "df_2022_1['사고원인'] = df_2022_1['사고원인'] + \" \" + df_2022_1['사고원인코드명_사고종별'] + \" \" + df_2022_1['사고종별상세코드명'] + \" \" + df_2022_1['사고원인기타내역_사고종별']\n",
    "df_2022_1.drop(['신고년월일', '신고시각', '출동년월일', '출동시각', '사고장소코드명', '사고장소기타내역', '사고장소관계자명', '사고원인코드명_사고종별', '사고종별상세코드명', '사고원인기타내역_사고종별'], axis=1, inplace=True)\n",
    "df_2022_1 = df_2022_1.loc[:, ['출동소방서', '신고시간', '출동시간', '발생장소_시', '발생장소_구', '발생장소_동', '발생장소_리', '번지', '상세주소', '관할구분코드명', '사고장소', '사고원인', '활동내역']]\n",
    "df_2022_1['사망'] = \"\"\n",
    "\n",
    "#### 2022 3~12\n",
    "data = xlrd.open_workbook_xls(\"data/raw/2022 3~12.xls\")\n",
    "sheet = data['2022년']\n",
    "data = [[sheet.cell_value(r, c) for c in range(sheet.ncols)] for r in range(sheet.nrows)]\n",
    "df_2022_2 = pd.DataFrame(data[1:], columns=data[0])\n",
    "\n",
    "df_2022_2['신고시간'] = pd.to_datetime(df_2022_2['신고년월일'] + \" \" + df_2022_2['신고시각'])\n",
    "df_2022_2['출동시간'] = df_2022_2['출동년월일'] + \" \" + df_2022_2['출동시각']\n",
    "df_2022_2['사고장소'] = df_2022_2['사고장소1'] + \" \" + df_2022_2['사고장소2'] + \" \" + df_2022_2['사고장소3'] + \" \" + df_2022_2['사고장소기타상세']\n",
    "df_2022_2['사고원인'] = df_2022_2['사고원인1'] + \" \" + df_2022_2['사고원인2'] + \" \" + df_2022_2['사고원인3'] + \" \" + df_2022_2['사고원인기타상세']\n",
    "df_2022_2.drop(['신고년월일', '신고시각', '출동년월일', '출동시각', '사고장소1', '사고장소2', '사고장소3', '사고장소기타상세', '사고원인1', '사고원인2', '사고원인3', '사고원인기타상세'], axis=1, inplace=True)\n",
    "df_2022_2 = df_2022_2.loc[:, ['출동소방서', '신고시간', '출동시간', '발생장소_시', '발생장소_구', '발생장소_동', '발생장소_리', '번지', '상세주소', '관할구분코드명', '사고장소', '사고원인', '활동내역', '사망']]\n",
    "df_2022 = pd.concat([df_2022_1, df_2022_2])\n",
    "df_2022.reset_index(drop=True, inplace=True)\n",
    "df_2022['특보종류'] = \"\"\n",
    "df_2022['시'] = df_2022['발생장소_구'].apply(lambda x: x[:2])"
   ]
  },
  {
   "cell_type": "code",
   "execution_count": 84,
   "metadata": {},
   "outputs": [],
   "source": [
    "## 2023\n",
    "data = xlrd.open_workbook_xls(\"data/raw/2023.xls\")\n",
    "sheet = data['2023년']\n",
    "data = [[sheet.cell_value(r, c) for c in range(sheet.ncols)] for r in range(sheet.nrows)]\n",
    "df_2023 = pd.DataFrame(data[1:], columns=data[0])\n",
    "\n",
    "df_2023['신고시간'] = pd.to_datetime(df_2023['신고년월일'] + \" \" + df_2023['신고시각'])\n",
    "df_2023['출동시간'] = df_2023['출동년월일'] + \" \" + df_2023['출동시각']\n",
    "df_2023['사고장소'] = df_2023['사고장소1'] + \" \" + df_2023['사고장소2'] + \" \" + df_2023['사고장소3'] + \" \" + df_2023['사고장소기타상세']\n",
    "df_2023['사고원인'] = df_2023['사고원인1'] + \" \" + df_2023['사고원인2'] + \" \" + df_2023['사고원인3'] + \" \" + df_2023['사고원인기타상세']\n",
    "df_2023.drop(['신고년월일', '신고시각', '출동년월일', '출동시각', '사고장소1', '사고장소2', '사고장소3', '사고장소기타상세', '사고원인1', '사고원인2', '사고원인3', '사고원인기타상세'], axis=1, inplace=True)\n",
    "df_2023 = df_2023.loc[:, ['출동소방서', '신고시간', '출동시간', '발생장소_시', '발생장소_구', '발생장소_동', '발생장소_리', '번지', '상세주소', '관할구분코드명', '사고장소', '사고원인', '활동내역', '사망']]\n",
    "df_2023['특보종류'] = \"\"\n",
    "df_2023['시'] = df_2023['발생장소_구'].apply(lambda x: x[:2])"
   ]
  },
  {
   "cell_type": "code",
   "execution_count": 85,
   "metadata": {},
   "outputs": [],
   "source": [
    "## 특보데이터 분류\n",
    "data = xlrd.open_workbook_xls(\"data/raw/hard_rain.xls\")\n",
    "sheet = data['rain']\n",
    "data = [[sheet.cell_value(r, c) for c in range(sheet.ncols)] for r in range(sheet.nrows)]\n",
    "df_w = pd.DataFrame(data[1:], columns=data[0])\n",
    "df_w['시'] = df_w['구역'].apply(lambda x: x.split()[1])\n",
    "df_w['도'] = df_w['구역'].apply(lambda x: x.split()[0])\n",
    "df_w['발효'] = pd.to_datetime(df_w['발효'])\n",
    "df_w['해제'] = pd.to_datetime(df_w['해제'])\n",
    "df_w.drop(columns='구역')\n",
    "df_w = df_w.loc[:, ['시', '도', '특보종류', '발효', '해제']]\n",
    "df_w['연도'] = df_w['발효'].dt.year"
   ]
  },
  {
   "cell_type": "code",
   "execution_count": 109,
   "metadata": {},
   "outputs": [],
   "source": [
    "d_dict = {\n",
    "    2014: df_2014,\n",
    "    2015: df_2015,\n",
    "    2016: df_2016,\n",
    "    2017: df_2017,\n",
    "    2018: df_2018,\n",
    "    2019: df_2019,\n",
    "    2020: df_2020,\n",
    "    2021: df_2021,\n",
    "    2022: df_2022,\n",
    "    2023: df_2023,\n",
    "}"
   ]
  },
  {
   "cell_type": "code",
   "execution_count": 112,
   "metadata": {},
   "outputs": [
    {
     "name": "stderr",
     "output_type": "stream",
     "text": [
      "C:\\Users\\Han\\AppData\\Local\\Temp\\ipykernel_38232\\865262982.py:10: SettingWithCopyWarning: \n",
      "A value is trying to be set on a copy of a slice from a DataFrame.\n",
      "Try using .loc[row_indexer,col_indexer] = value instead\n",
      "\n",
      "See the caveats in the documentation: https://pandas.pydata.org/pandas-docs/stable/user_guide/indexing.html#returning-a-view-versus-a-copy\n",
      "  alert_result.loc[:, '특보종류'] = alert_type\n"
     ]
    }
   ],
   "source": [
    "result = []\n",
    "\n",
    "for city in set(df_w['시'].values):\n",
    "    for year in range(2014, 2024):\n",
    "        alert = df_w[(df_w['연도'] == year) & (df_w['시'] == city)]\n",
    "        for i in alert.index:\n",
    "            alert_type = alert.loc[i, :]['특보종류']\n",
    "            city_d = d_dict[year][d_dict[year]['시'] == city] \n",
    "            alert_result = city_d[(city_d['신고시간'] >= alert.loc[i, :]['발효']) & (city_d['신고시간'] <= alert.loc[i, :]['해제'])]\n",
    "            alert_result.loc[:, '특보종류'] = alert_type\n",
    "            result.append(alert_result)"
   ]
  },
  {
   "cell_type": "code",
   "execution_count": 120,
   "metadata": {},
   "outputs": [],
   "source": [
    "rain_alert = pd.concat(result)\n",
    "rain_alert.drop(columns='시', inplace=True)\n",
    "rain_alert.reset_index(drop=True, inplace=True)"
   ]
  },
  {
   "cell_type": "code",
   "execution_count": 123,
   "metadata": {},
   "outputs": [],
   "source": [
    "rain_alert.to_excel(\"data/호우특보출동.xlsx\", index=False)"
   ]
  }
 ],
 "metadata": {
  "kernelspec": {
   "display_name": "base",
   "language": "python",
   "name": "python3"
  },
  "language_info": {
   "codemirror_mode": {
    "name": "ipython",
    "version": 3
   },
   "file_extension": ".py",
   "mimetype": "text/x-python",
   "name": "python",
   "nbconvert_exporter": "python",
   "pygments_lexer": "ipython3",
   "version": "3.9.13"
  }
 },
 "nbformat": 4,
 "nbformat_minor": 2
}
