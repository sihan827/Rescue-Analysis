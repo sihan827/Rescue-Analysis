{
 "cells": [
  {
   "cell_type": "code",
   "execution_count": 1,
   "metadata": {},
   "outputs": [],
   "source": [
    "import numpy as np\n",
    "import pandas as pd"
   ]
  },
  {
   "cell_type": "code",
   "execution_count": 18,
   "metadata": {},
   "outputs": [],
   "source": [
    "# 산사태 취약지역 데이터 불러오기\n",
    "df_land = pd.read_csv('data/raw/landslide.csv', encoding='cp949')"
   ]
  },
  {
   "cell_type": "code",
   "execution_count": 22,
   "metadata": {},
   "outputs": [
    {
     "name": "stdout",
     "output_type": "stream",
     "text": [
      "245\n"
     ]
    },
    {
     "data": {
      "text/html": [
       "<div>\n",
       "<style scoped>\n",
       "    .dataframe tbody tr th:only-of-type {\n",
       "        vertical-align: middle;\n",
       "    }\n",
       "\n",
       "    .dataframe tbody tr th {\n",
       "        vertical-align: top;\n",
       "    }\n",
       "\n",
       "    .dataframe thead th {\n",
       "        text-align: right;\n",
       "    }\n",
       "</style>\n",
       "<table border=\"1\" class=\"dataframe\">\n",
       "  <thead>\n",
       "    <tr style=\"text-align: right;\">\n",
       "      <th></th>\n",
       "      <th>법정동명</th>\n",
       "      <th>취약지역유형</th>\n",
       "      <th>지정일</th>\n",
       "    </tr>\n",
       "  </thead>\n",
       "  <tbody>\n",
       "    <tr>\n",
       "      <th>0</th>\n",
       "      <td>충청남도 보령시 청라면</td>\n",
       "      <td>토석류</td>\n",
       "      <td>2015-09-08</td>\n",
       "    </tr>\n",
       "    <tr>\n",
       "      <th>1</th>\n",
       "      <td>충청남도 공주시 정안면</td>\n",
       "      <td>토석류</td>\n",
       "      <td>2015-06-30</td>\n",
       "    </tr>\n",
       "    <tr>\n",
       "      <th>2</th>\n",
       "      <td>충청남도 공주시 쌍신동</td>\n",
       "      <td>산사태</td>\n",
       "      <td>2021-02-04</td>\n",
       "    </tr>\n",
       "  </tbody>\n",
       "</table>\n",
       "</div>"
      ],
      "text/plain": [
       "           법정동명 취약지역유형         지정일\n",
       "0  충청남도 보령시 청라면    토석류  2015-09-08\n",
       "1  충청남도 공주시 정안면    토석류  2015-06-30\n",
       "2  충청남도 공주시 쌍신동    산사태  2021-02-04"
      ]
     },
     "execution_count": 22,
     "metadata": {},
     "output_type": "execute_result"
    }
   ],
   "source": [
    "# 충남 지역 및 해소되지 않은 취약지역만 선별\n",
    "df_land_chgnam = df_land.loc[df_land['시도 (*)'] == '충청남도', :]\n",
    "df_land_chgnam = df_land_chgnam.loc[df_land['취약지역 \\n현재현황'].apply(lambda x: '해소' not in str(x))]\n",
    "df_land_chgnam['법정동명'] = df_land_chgnam['시도 (*)'] + ' ' + df_land_chgnam['시군구 (*)'] + ' ' + df_land_chgnam['읍면동 (*)']\n",
    "df_land_chgnam = df_land_chgnam.loc[:, ['법정동명', '취약지역유형', '지정일']]\n",
    "df_land_chgnam.reset_index(drop=True, inplace=True)\n",
    "print(len(df_land_chgnam))\n",
    "df_land_chgnam.head(3)"
   ]
  },
  {
   "cell_type": "code",
   "execution_count": 24,
   "metadata": {},
   "outputs": [
    {
     "name": "stdout",
     "output_type": "stream",
     "text": [
      "285\n"
     ]
    },
    {
     "data": {
      "text/html": [
       "<div>\n",
       "<style scoped>\n",
       "    .dataframe tbody tr th:only-of-type {\n",
       "        vertical-align: middle;\n",
       "    }\n",
       "\n",
       "    .dataframe tbody tr th {\n",
       "        vertical-align: top;\n",
       "    }\n",
       "\n",
       "    .dataframe thead th {\n",
       "        text-align: right;\n",
       "    }\n",
       "</style>\n",
       "<table border=\"1\" class=\"dataframe\">\n",
       "  <thead>\n",
       "    <tr style=\"text-align: right;\">\n",
       "      <th></th>\n",
       "      <th>법정동코드</th>\n",
       "      <th>법정동명</th>\n",
       "    </tr>\n",
       "  </thead>\n",
       "  <tbody>\n",
       "    <tr>\n",
       "      <th>0</th>\n",
       "      <td>44131101</td>\n",
       "      <td>충청남도 천안시 동남구 대흥동</td>\n",
       "    </tr>\n",
       "    <tr>\n",
       "      <th>1</th>\n",
       "      <td>44131102</td>\n",
       "      <td>충청남도 천안시 동남구 성황동</td>\n",
       "    </tr>\n",
       "    <tr>\n",
       "      <th>2</th>\n",
       "      <td>44131103</td>\n",
       "      <td>충청남도 천안시 동남구 문화동</td>\n",
       "    </tr>\n",
       "  </tbody>\n",
       "</table>\n",
       "</div>"
      ],
      "text/plain": [
       "      법정동코드              법정동명\n",
       "0  44131101  충청남도 천안시 동남구 대흥동\n",
       "1  44131102  충청남도 천안시 동남구 성황동\n",
       "2  44131103  충청남도 천안시 동남구 문화동"
      ]
     },
     "execution_count": 24,
     "metadata": {},
     "output_type": "execute_result"
    }
   ],
   "source": [
    "# 법정동코드 데이터 불러오기\n",
    "law_code = pd.read_table(\"data/법정동코드 전체자료.txt\", sep='\\t', encoding='cp949')\n",
    "# 읍면동 단위로 정제\n",
    "law_code = law_code[law_code['법정동코드'].apply(lambda x: str(x).startswith('44'))]\n",
    "law_code = law_code[law_code['폐지여부'] == '존재']\n",
    "law_code = law_code[law_code['법정동명'].apply(lambda x: x[-1] in ('읍', '면', '동'))]\n",
    "law_code.loc[:, '법정동코드'] = law_code.loc[:, '법정동코드'].apply(lambda x: str(x)[:-2])\n",
    "law_code.reset_index(drop=True, inplace=True)\n",
    "law_code.drop(columns='폐지여부', inplace=True)\n",
    "print(len(law_code))\n",
    "law_code.head(3)"
   ]
  },
  {
   "cell_type": "code",
   "execution_count": 27,
   "metadata": {},
   "outputs": [
    {
     "name": "stdout",
     "output_type": "stream",
     "text": [
      "<class 'pandas.core.frame.DataFrame'>\n",
      "RangeIndex: 245 entries, 0 to 244\n",
      "Data columns (total 4 columns):\n",
      " #   Column  Non-Null Count  Dtype \n",
      "---  ------  --------------  ----- \n",
      " 0   법정동명    245 non-null    object\n",
      " 1   취약지역유형  245 non-null    object\n",
      " 2   지정일     245 non-null    object\n",
      " 3   법정동코드   245 non-null    object\n",
      "dtypes: object(4)\n",
      "memory usage: 7.8+ KB\n"
     ]
    }
   ],
   "source": [
    "# 법정동명으로 merge\n",
    "df_land_pp = pd.merge(df_land_chgnam, law_code, how='left', on='법정동명')\n",
    "df_land_pp.info()"
   ]
  },
  {
   "cell_type": "code",
   "execution_count": 28,
   "metadata": {},
   "outputs": [],
   "source": [
    "# 처리 데이터 저장\n",
    "df_land_pp.to_csv(\"data/landslide_pp.csv\", index=False)"
   ]
  }
 ],
 "metadata": {
  "kernelspec": {
   "display_name": "base",
   "language": "python",
   "name": "python3"
  },
  "language_info": {
   "codemirror_mode": {
    "name": "ipython",
    "version": 3
   },
   "file_extension": ".py",
   "mimetype": "text/x-python",
   "name": "python",
   "nbconvert_exporter": "python",
   "pygments_lexer": "ipython3",
   "version": "3.11.7"
  }
 },
 "nbformat": 4,
 "nbformat_minor": 2
}
