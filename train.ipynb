{
 "cells": [
  {
   "cell_type": "code",
   "execution_count": 123,
   "metadata": {},
   "outputs": [],
   "source": [
    "import pandas as pd\n",
    "import numpy as np\n",
    "import seaborn as sb"
   ]
  },
  {
   "cell_type": "code",
   "execution_count": 124,
   "metadata": {},
   "outputs": [],
   "source": [
    "# 한글깨짐 방지\n",
    "import matplotlib.pyplot as plt\n",
    "plt.rcParams['font.family'] ='Malgun Gothic'\n",
    "plt.rcParams['axes.unicode_minus'] =False"
   ]
  },
  {
   "cell_type": "code",
   "execution_count": 125,
   "metadata": {},
   "outputs": [
    {
     "data": {
      "text/html": [
       "<div>\n",
       "<style scoped>\n",
       "    .dataframe tbody tr th:only-of-type {\n",
       "        vertical-align: middle;\n",
       "    }\n",
       "\n",
       "    .dataframe tbody tr th {\n",
       "        vertical-align: top;\n",
       "    }\n",
       "\n",
       "    .dataframe thead th {\n",
       "        text-align: right;\n",
       "    }\n",
       "</style>\n",
       "<table border=\"1\" class=\"dataframe\">\n",
       "  <thead>\n",
       "    <tr style=\"text-align: right;\">\n",
       "      <th></th>\n",
       "      <th>법정동코드</th>\n",
       "      <th>법정동명</th>\n",
       "      <th>폐지여부</th>\n",
       "    </tr>\n",
       "  </thead>\n",
       "  <tbody>\n",
       "    <tr>\n",
       "      <th>0</th>\n",
       "      <td>1100000000</td>\n",
       "      <td>서울특별시</td>\n",
       "      <td>존재</td>\n",
       "    </tr>\n",
       "    <tr>\n",
       "      <th>1</th>\n",
       "      <td>1111000000</td>\n",
       "      <td>서울특별시 종로구</td>\n",
       "      <td>존재</td>\n",
       "    </tr>\n",
       "    <tr>\n",
       "      <th>2</th>\n",
       "      <td>1111010100</td>\n",
       "      <td>서울특별시 종로구 청운동</td>\n",
       "      <td>존재</td>\n",
       "    </tr>\n",
       "  </tbody>\n",
       "</table>\n",
       "</div>"
      ],
      "text/plain": [
       "        법정동코드           법정동명 폐지여부\n",
       "0  1100000000          서울특별시   존재\n",
       "1  1111000000      서울특별시 종로구   존재\n",
       "2  1111010100  서울특별시 종로구 청운동   존재"
      ]
     },
     "execution_count": 125,
     "metadata": {},
     "output_type": "execute_result"
    }
   ],
   "source": [
    "# 법정동코드 불러오기\n",
    "df_code = pd.read_table(\"data/법정동코드 전체자료.txt\", sep='\\t', encoding='cp949')\n",
    "df_code.head(3)"
   ]
  },
  {
   "cell_type": "code",
   "execution_count": 319,
   "metadata": {},
   "outputs": [
    {
     "name": "stdout",
     "output_type": "stream",
     "text": [
      "285\n"
     ]
    },
    {
     "data": {
      "text/html": [
       "<div>\n",
       "<style scoped>\n",
       "    .dataframe tbody tr th:only-of-type {\n",
       "        vertical-align: middle;\n",
       "    }\n",
       "\n",
       "    .dataframe tbody tr th {\n",
       "        vertical-align: top;\n",
       "    }\n",
       "\n",
       "    .dataframe thead th {\n",
       "        text-align: right;\n",
       "    }\n",
       "</style>\n",
       "<table border=\"1\" class=\"dataframe\">\n",
       "  <thead>\n",
       "    <tr style=\"text-align: right;\">\n",
       "      <th></th>\n",
       "      <th>법정동코드</th>\n",
       "      <th>법정동명</th>\n",
       "    </tr>\n",
       "  </thead>\n",
       "  <tbody>\n",
       "    <tr>\n",
       "      <th>0</th>\n",
       "      <td>44131101</td>\n",
       "      <td>충청남도 천안시 동남구 대흥동</td>\n",
       "    </tr>\n",
       "    <tr>\n",
       "      <th>1</th>\n",
       "      <td>44131102</td>\n",
       "      <td>충청남도 천안시 동남구 성황동</td>\n",
       "    </tr>\n",
       "    <tr>\n",
       "      <th>2</th>\n",
       "      <td>44131103</td>\n",
       "      <td>충청남도 천안시 동남구 문화동</td>\n",
       "    </tr>\n",
       "  </tbody>\n",
       "</table>\n",
       "</div>"
      ],
      "text/plain": [
       "      법정동코드              법정동명\n",
       "0  44131101  충청남도 천안시 동남구 대흥동\n",
       "1  44131102  충청남도 천안시 동남구 성황동\n",
       "2  44131103  충청남도 천안시 동남구 문화동"
      ]
     },
     "execution_count": 319,
     "metadata": {},
     "output_type": "execute_result"
    }
   ],
   "source": [
    "# 읍면동 단위로 정제\n",
    "chgnam_code = df_code[df_code['법정동코드'].apply(lambda x: str(x).startswith('44'))]\n",
    "chgnam_code = chgnam_code[chgnam_code['폐지여부'] == '존재']\n",
    "chgnam_code = chgnam_code[chgnam_code['법정동명'].apply(lambda x: x[-1] in ('읍', '면', '동'))]\n",
    "chgnam_code.loc[:, '법정동코드'] = chgnam_code.loc[:, '법정동코드'].apply(lambda x: str(x)[:-2])\n",
    "chgnam_code.reset_index(drop=True, inplace=True)\n",
    "chgnam_code.drop(columns='폐지여부', inplace=True)\n",
    "print(len(chgnam_code))\n",
    "chgnam_code.head(3)"
   ]
  },
  {
   "cell_type": "code",
   "execution_count": 127,
   "metadata": {},
   "outputs": [
    {
     "data": {
      "text/html": [
       "<div>\n",
       "<style scoped>\n",
       "    .dataframe tbody tr th:only-of-type {\n",
       "        vertical-align: middle;\n",
       "    }\n",
       "\n",
       "    .dataframe tbody tr th {\n",
       "        vertical-align: top;\n",
       "    }\n",
       "\n",
       "    .dataframe thead th {\n",
       "        text-align: right;\n",
       "    }\n",
       "</style>\n",
       "<table border=\"1\" class=\"dataframe\">\n",
       "  <thead>\n",
       "    <tr style=\"text-align: right;\">\n",
       "      <th></th>\n",
       "      <th>신고시간</th>\n",
       "      <th>발생장소_시</th>\n",
       "      <th>발생장소_구</th>\n",
       "      <th>발생장소_동</th>\n",
       "      <th>법정동명</th>\n",
       "      <th>특보종류</th>\n",
       "      <th>1-연관 / 0-비연관</th>\n",
       "    </tr>\n",
       "  </thead>\n",
       "  <tbody>\n",
       "    <tr>\n",
       "      <th>0</th>\n",
       "      <td>2014-08-25 07:29:00</td>\n",
       "      <td>충청남도</td>\n",
       "      <td>부여군</td>\n",
       "      <td>규암면</td>\n",
       "      <td>충청남도 부여군 규암면</td>\n",
       "      <td>호우주의보</td>\n",
       "      <td>0</td>\n",
       "    </tr>\n",
       "    <tr>\n",
       "      <th>1</th>\n",
       "      <td>2014-08-25 10:00:00</td>\n",
       "      <td>충청남도</td>\n",
       "      <td>부여군</td>\n",
       "      <td>장암면</td>\n",
       "      <td>충청남도 부여군 장암면</td>\n",
       "      <td>호우주의보</td>\n",
       "      <td>0</td>\n",
       "    </tr>\n",
       "    <tr>\n",
       "      <th>2</th>\n",
       "      <td>2014-08-25 10:39:00</td>\n",
       "      <td>충청남도</td>\n",
       "      <td>부여군</td>\n",
       "      <td>구룡면</td>\n",
       "      <td>충청남도 부여군 구룡면</td>\n",
       "      <td>호우주의보</td>\n",
       "      <td>0</td>\n",
       "    </tr>\n",
       "  </tbody>\n",
       "</table>\n",
       "</div>"
      ],
      "text/plain": [
       "                 신고시간 발생장소_시 발생장소_구 발생장소_동          법정동명   특보종류  1-연관 / 0-비연관\n",
       "0 2014-08-25 07:29:00   충청남도    부여군    규암면  충청남도 부여군 규암면  호우주의보             0\n",
       "1 2014-08-25 10:00:00   충청남도    부여군    장암면  충청남도 부여군 장암면  호우주의보             0\n",
       "2 2014-08-25 10:39:00   충청남도    부여군    구룡면  충청남도 부여군 구룡면  호우주의보             0"
      ]
     },
     "execution_count": 127,
     "metadata": {},
     "output_type": "execute_result"
    }
   ],
   "source": [
    "# 라벨링된 출동데이터에서 필요한 컬럼만 선별\n",
    "df_res = pd.read_excel('data/labeled.xlsx')\n",
    "df_res['법정동명'] = df_res['발생장소_시'] + \" \" + df_res['발생장소_구'] + \" \" + df_res['발생장소_동']\n",
    "df_res = df_res.loc[:, ['신고시간', '발생장소_시', '발생장소_구', '발생장소_동', '법정동명', '특보종류', '1-연관 / 0-비연관']]\n",
    "df_res.head(3)"
   ]
  },
  {
   "cell_type": "code",
   "execution_count": 128,
   "metadata": {},
   "outputs": [
    {
     "data": {
      "text/plain": [
       "<Axes: xlabel='1-연관 / 0-비연관'>"
      ]
     },
     "execution_count": 128,
     "metadata": {},
     "output_type": "execute_result"
    },
    {
     "data": {
      "image/png": "[encoded data removed]",
      "text/plain": [
       "<Figure size 640x480 with 1 Axes>"
      ]
     },
     "metadata": {},
     "output_type": "display_data"
    }
   ],
   "source": [
    "# 라벨 비율 확인: 이 정도 비율이면 샘플링 없이 돌려도 될것으로 보임\n",
    "label_dis = df_res['1-연관 / 0-비연관'].value_counts()\n",
    "sb.barplot(x=label_dis.index, y=label_dis.values)"
   ]
  },
  {
   "cell_type": "code",
   "execution_count": 129,
   "metadata": {},
   "outputs": [
    {
     "data": {
      "text/html": [
       "<div>\n",
       "<style scoped>\n",
       "    .dataframe tbody tr th:only-of-type {\n",
       "        vertical-align: middle;\n",
       "    }\n",
       "\n",
       "    .dataframe tbody tr th {\n",
       "        vertical-align: top;\n",
       "    }\n",
       "\n",
       "    .dataframe thead th {\n",
       "        text-align: right;\n",
       "    }\n",
       "</style>\n",
       "<table border=\"1\" class=\"dataframe\">\n",
       "  <thead>\n",
       "    <tr style=\"text-align: right;\">\n",
       "      <th></th>\n",
       "      <th>법정동코드</th>\n",
       "      <th>법정동명</th>\n",
       "      <th>신고시간</th>\n",
       "      <th>발생장소_시</th>\n",
       "      <th>발생장소_구</th>\n",
       "      <th>발생장소_동</th>\n",
       "      <th>특보종류</th>\n",
       "      <th>1-연관 / 0-비연관</th>\n",
       "    </tr>\n",
       "  </thead>\n",
       "  <tbody>\n",
       "    <tr>\n",
       "      <th>0</th>\n",
       "      <td>44131101</td>\n",
       "      <td>충청남도 천안시 동남구 대흥동</td>\n",
       "      <td>2019-07-25 10:14:00</td>\n",
       "      <td>충청남도</td>\n",
       "      <td>천안시 동남구</td>\n",
       "      <td>대흥동</td>\n",
       "      <td>호우경보</td>\n",
       "      <td>0.0</td>\n",
       "    </tr>\n",
       "    <tr>\n",
       "      <th>1</th>\n",
       "      <td>44131101</td>\n",
       "      <td>충청남도 천안시 동남구 대흥동</td>\n",
       "      <td>2019-07-25 10:14:00</td>\n",
       "      <td>충청남도</td>\n",
       "      <td>천안시 동남구</td>\n",
       "      <td>대흥동</td>\n",
       "      <td>호우경보</td>\n",
       "      <td>0.0</td>\n",
       "    </tr>\n",
       "    <tr>\n",
       "      <th>2</th>\n",
       "      <td>44131101</td>\n",
       "      <td>충청남도 천안시 동남구 대흥동</td>\n",
       "      <td>2020-08-04 03:09:00</td>\n",
       "      <td>충청남도</td>\n",
       "      <td>천안시 동남구</td>\n",
       "      <td>대흥동</td>\n",
       "      <td>호우경보</td>\n",
       "      <td>0.0</td>\n",
       "    </tr>\n",
       "  </tbody>\n",
       "</table>\n",
       "</div>"
      ],
      "text/plain": [
       "      법정동코드              법정동명                신고시간 발생장소_시   발생장소_구 발생장소_동  \\\n",
       "0  44131101  충청남도 천안시 동남구 대흥동 2019-07-25 10:14:00   충청남도  천안시 동남구    대흥동   \n",
       "1  44131101  충청남도 천안시 동남구 대흥동 2019-07-25 10:14:00   충청남도  천안시 동남구    대흥동   \n",
       "2  44131101  충청남도 천안시 동남구 대흥동 2020-08-04 03:09:00   충청남도  천안시 동남구    대흥동   \n",
       "\n",
       "   특보종류  1-연관 / 0-비연관  \n",
       "0  호우경보           0.0  \n",
       "1  호우경보           0.0  \n",
       "2  호우경보           0.0  "
      ]
     },
     "execution_count": 129,
     "metadata": {},
     "output_type": "execute_result"
    }
   ],
   "source": [
    "# 법정동코드와 출동데이터 merge\n",
    "df_full = pd.merge(chgnam_code, df_res, on='법정동명', how='outer')\n",
    "df_full.head(3)"
   ]
  },
  {
   "cell_type": "code",
   "execution_count": 130,
   "metadata": {},
   "outputs": [],
   "source": [
    "# 쌍용2동,3동이 합쳐져 있고(44133107) 1동이 일반 쌍용동(44131117)\n",
    "df_full.loc[df_full['발생장소_동'] == '쌍용2동', '법정동코드'] = '44133107'\n",
    "df_full.loc[df_full['발생장소_동'] == '쌍용3동', '법정동코드'] = '44133107'\n",
    "df_full.loc[df_full['발생장소_동'] == '쌍용1동', '법정동코드'] = '44131117'"
   ]
  },
  {
   "cell_type": "code",
   "execution_count": 131,
   "metadata": {},
   "outputs": [],
   "source": [
    "# 성정1동,2동,성정동은 하나의 성정동 \n",
    "df_full.loc[df_full['발생장소_동'] == '성정1동', '법정동코드'] = '44133102'\n",
    "df_full.loc[df_full['발생장소_동'] == '성정2동', '법정동코드'] = '44133102'"
   ]
  },
  {
   "cell_type": "code",
   "execution_count": 132,
   "metadata": {},
   "outputs": [],
   "source": [
    "# 온양1동은 온천동에 포함됨(44200101)\n",
    "df_full.loc[df_full['발생장소_동'] == '온양1동', '법정동코드'] = '44200101'"
   ]
  },
  {
   "cell_type": "code",
   "execution_count": 133,
   "metadata": {},
   "outputs": [],
   "source": [
    "# 홍북면은 홍북읍과 같은 지역(44800256)\n",
    "df_full.loc[df_full['발생장소_동'] == '홍북면', '법정동코드'] = '44800256'"
   ]
  },
  {
   "cell_type": "code",
   "execution_count": 134,
   "metadata": {},
   "outputs": [],
   "source": [
    "# 부춘동은 서산시 갈산동(44210103), 읍내동(44210101)을 합친 지역-> 일단은 읍내동으로 판단 (인구밀도가 높기 때문)\n",
    "df_full.loc[df_full['발생장소_동'] == '부춘동', '법정동코드'] = '44210101'"
   ]
  },
  {
   "cell_type": "code",
   "execution_count": 135,
   "metadata": {},
   "outputs": [],
   "source": [
    "# 결측치 제거\n",
    "df_full = df_full.dropna(axis=0)"
   ]
  },
  {
   "cell_type": "code",
   "execution_count": 136,
   "metadata": {},
   "outputs": [],
   "source": [
    "# 필요없는 컬럼 제거\n",
    "df_full = df_full.drop(columns=['법정동명', '발생장소_시', '발생장소_동'])"
   ]
  },
  {
   "cell_type": "code",
   "execution_count": 137,
   "metadata": {},
   "outputs": [
    {
     "data": {
      "text/html": [
       "<div>\n",
       "<style scoped>\n",
       "    .dataframe tbody tr th:only-of-type {\n",
       "        vertical-align: middle;\n",
       "    }\n",
       "\n",
       "    .dataframe tbody tr th {\n",
       "        vertical-align: top;\n",
       "    }\n",
       "\n",
       "    .dataframe thead th {\n",
       "        text-align: right;\n",
       "    }\n",
       "</style>\n",
       "<table border=\"1\" class=\"dataframe\">\n",
       "  <thead>\n",
       "    <tr style=\"text-align: right;\">\n",
       "      <th></th>\n",
       "      <th>법정동코드</th>\n",
       "      <th>신고시간</th>\n",
       "      <th>발생장소_구</th>\n",
       "      <th>특보종류</th>\n",
       "      <th>1-연관 / 0-비연관</th>\n",
       "    </tr>\n",
       "  </thead>\n",
       "  <tbody>\n",
       "    <tr>\n",
       "      <th>0</th>\n",
       "      <td>44131101</td>\n",
       "      <td>2019-07-25 10:14:00</td>\n",
       "      <td>천안시 동남구</td>\n",
       "      <td>호우경보</td>\n",
       "      <td>0.0</td>\n",
       "    </tr>\n",
       "    <tr>\n",
       "      <th>1</th>\n",
       "      <td>44131101</td>\n",
       "      <td>2019-07-25 10:14:00</td>\n",
       "      <td>천안시 동남구</td>\n",
       "      <td>호우경보</td>\n",
       "      <td>0.0</td>\n",
       "    </tr>\n",
       "    <tr>\n",
       "      <th>2</th>\n",
       "      <td>44131101</td>\n",
       "      <td>2020-08-04 03:09:00</td>\n",
       "      <td>천안시 동남구</td>\n",
       "      <td>호우경보</td>\n",
       "      <td>0.0</td>\n",
       "    </tr>\n",
       "  </tbody>\n",
       "</table>\n",
       "</div>"
      ],
      "text/plain": [
       "      법정동코드                신고시간   발생장소_구  특보종류  1-연관 / 0-비연관\n",
       "0  44131101 2019-07-25 10:14:00  천안시 동남구  호우경보           0.0\n",
       "1  44131101 2019-07-25 10:14:00  천안시 동남구  호우경보           0.0\n",
       "2  44131101 2020-08-04 03:09:00  천안시 동남구  호우경보           0.0"
      ]
     },
     "execution_count": 137,
     "metadata": {},
     "output_type": "execute_result"
    }
   ],
   "source": [
    "# 인덱스 리셋\n",
    "df_full = df_full.reset_index(drop=True)\n",
    "df_full.head(3)"
   ]
  },
  {
   "cell_type": "code",
   "execution_count": 138,
   "metadata": {},
   "outputs": [
    {
     "data": {
      "text/html": [
       "<div>\n",
       "<style scoped>\n",
       "    .dataframe tbody tr th:only-of-type {\n",
       "        vertical-align: middle;\n",
       "    }\n",
       "\n",
       "    .dataframe tbody tr th {\n",
       "        vertical-align: top;\n",
       "    }\n",
       "\n",
       "    .dataframe thead th {\n",
       "        text-align: right;\n",
       "    }\n",
       "</style>\n",
       "<table border=\"1\" class=\"dataframe\">\n",
       "  <thead>\n",
       "    <tr style=\"text-align: right;\">\n",
       "      <th></th>\n",
       "      <th>법정동코드</th>\n",
       "      <th>신고시간</th>\n",
       "      <th>일시</th>\n",
       "      <th>발생장소_구</th>\n",
       "      <th>지점명</th>\n",
       "      <th>특보종류</th>\n",
       "      <th>1-연관 / 0-비연관</th>\n",
       "    </tr>\n",
       "  </thead>\n",
       "  <tbody>\n",
       "    <tr>\n",
       "      <th>0</th>\n",
       "      <td>44131101</td>\n",
       "      <td>2019-07-25 10:14:00</td>\n",
       "      <td>2019-07-25</td>\n",
       "      <td>천안시 동남구</td>\n",
       "      <td>천안</td>\n",
       "      <td>호우경보</td>\n",
       "      <td>0.0</td>\n",
       "    </tr>\n",
       "    <tr>\n",
       "      <th>1</th>\n",
       "      <td>44131101</td>\n",
       "      <td>2019-07-25 10:14:00</td>\n",
       "      <td>2019-07-25</td>\n",
       "      <td>천안시 동남구</td>\n",
       "      <td>천안</td>\n",
       "      <td>호우경보</td>\n",
       "      <td>0.0</td>\n",
       "    </tr>\n",
       "    <tr>\n",
       "      <th>2</th>\n",
       "      <td>44131101</td>\n",
       "      <td>2020-08-04 03:09:00</td>\n",
       "      <td>2020-08-04</td>\n",
       "      <td>천안시 동남구</td>\n",
       "      <td>천안</td>\n",
       "      <td>호우경보</td>\n",
       "      <td>0.0</td>\n",
       "    </tr>\n",
       "  </tbody>\n",
       "</table>\n",
       "</div>"
      ],
      "text/plain": [
       "      법정동코드                신고시간         일시   발생장소_구 지점명  특보종류  1-연관 / 0-비연관\n",
       "0  44131101 2019-07-25 10:14:00 2019-07-25  천안시 동남구  천안  호우경보           0.0\n",
       "1  44131101 2019-07-25 10:14:00 2019-07-25  천안시 동남구  천안  호우경보           0.0\n",
       "2  44131101 2020-08-04 03:09:00 2020-08-04  천안시 동남구  천안  호우경보           0.0"
      ]
     },
     "execution_count": 138,
     "metadata": {},
     "output_type": "execute_result"
    }
   ],
   "source": [
    "# 특정컬럼 분해\n",
    "df_full['일시'] = df_full['신고시간'].apply(lambda x: pd.to_datetime(str(x).split()[0]))\n",
    "df_full['지점명'] = df_full['발생장소_구'].apply(lambda x: str(x)[:2])\n",
    "df_full = df_full.loc[:, ['법정동코드', '신고시간', '일시', '발생장소_구', '지점명', '특보종류', '1-연관 / 0-비연관']]\n",
    "df_full.head(3)"
   ]
  },
  {
   "cell_type": "code",
   "execution_count": 139,
   "metadata": {},
   "outputs": [],
   "source": [
    "# 날씨데이터 가져오기\n",
    "df_wea = pd.read_excel('data/충남 15개 지점 일값 자료.xlsx', sheet_name=None, engine='openpyxl')"
   ]
  },
  {
   "cell_type": "code",
   "execution_count": 140,
   "metadata": {},
   "outputs": [
    {
     "data": {
      "text/html": [
       "<div>\n",
       "<style scoped>\n",
       "    .dataframe tbody tr th:only-of-type {\n",
       "        vertical-align: middle;\n",
       "    }\n",
       "\n",
       "    .dataframe tbody tr th {\n",
       "        vertical-align: top;\n",
       "    }\n",
       "\n",
       "    .dataframe thead th {\n",
       "        text-align: right;\n",
       "    }\n",
       "</style>\n",
       "<table border=\"1\" class=\"dataframe\">\n",
       "  <thead>\n",
       "    <tr style=\"text-align: right;\">\n",
       "      <th></th>\n",
       "      <th>지점명</th>\n",
       "      <th>일시</th>\n",
       "      <th>avg_temp</th>\n",
       "      <th>min_temp</th>\n",
       "      <th>max_temp</th>\n",
       "      <th>day_pre</th>\n",
       "      <th>max_wspeed</th>\n",
       "      <th>avg_wspeed</th>\n",
       "    </tr>\n",
       "  </thead>\n",
       "  <tbody>\n",
       "    <tr>\n",
       "      <th>0</th>\n",
       "      <td>서산</td>\n",
       "      <td>2014-01-01</td>\n",
       "      <td>3.0</td>\n",
       "      <td>-4.6</td>\n",
       "      <td>9.3</td>\n",
       "      <td>NaN</td>\n",
       "      <td>12.6</td>\n",
       "      <td>2.5</td>\n",
       "    </tr>\n",
       "    <tr>\n",
       "      <th>1</th>\n",
       "      <td>서산</td>\n",
       "      <td>2014-01-02</td>\n",
       "      <td>0.7</td>\n",
       "      <td>-4.8</td>\n",
       "      <td>7.8</td>\n",
       "      <td>NaN</td>\n",
       "      <td>7.4</td>\n",
       "      <td>0.8</td>\n",
       "    </tr>\n",
       "    <tr>\n",
       "      <th>2</th>\n",
       "      <td>서산</td>\n",
       "      <td>2014-01-03</td>\n",
       "      <td>2.3</td>\n",
       "      <td>-4.3</td>\n",
       "      <td>9.6</td>\n",
       "      <td>NaN</td>\n",
       "      <td>5.5</td>\n",
       "      <td>1.1</td>\n",
       "    </tr>\n",
       "  </tbody>\n",
       "</table>\n",
       "</div>"
      ],
      "text/plain": [
       "  지점명         일시  avg_temp  min_temp  max_temp  day_pre  max_wspeed  \\\n",
       "0  서산 2014-01-01       3.0      -4.6       9.3      NaN        12.6   \n",
       "1  서산 2014-01-02       0.7      -4.8       7.8      NaN         7.4   \n",
       "2  서산 2014-01-03       2.3      -4.3       9.6      NaN         5.5   \n",
       "\n",
       "   avg_wspeed  \n",
       "0         2.5  \n",
       "1         0.8  \n",
       "2         1.1  "
      ]
     },
     "execution_count": 140,
     "metadata": {},
     "output_type": "execute_result"
    }
   ],
   "source": [
    "# 불필요 컬럼 제거 및 이름 변경\n",
    "del df_wea['서산 등 5개 지점 일값자료']\n",
    "df_wea = pd.concat(df_wea.values())\n",
    "df_wea = df_wea.drop(columns=['지점', '최대 순간풍속 시각(hhmi)', '최대 순간 풍속 풍향(16방위)', '최대 순간 풍속 풍향(deg)'])\n",
    "df_wea = df_wea.rename(columns={\n",
    "    '평균기온(°C)': 'avg_temp', '최저기온(°C)': 'min_temp', '최고기온(°C)': 'max_temp', \n",
    "    '일강수량(mm)': 'day_pre', '최대 순간 풍속(m/s)': 'max_wspeed', '평균 풍속(m/s)': 'avg_wspeed'\n",
    "})\n",
    "df_wea.head(3)"
   ]
  },
  {
   "cell_type": "code",
   "execution_count": 203,
   "metadata": {},
   "outputs": [
    {
     "name": "stdout",
     "output_type": "stream",
     "text": [
      "<class 'pandas.core.frame.DataFrame'>\n",
      "Index: 54082 entries, 0 to 3639\n",
      "Data columns (total 8 columns):\n",
      " #   Column      Non-Null Count  Dtype         \n",
      "---  ------      --------------  -----         \n",
      " 0   지점명         54082 non-null  object        \n",
      " 1   일시          54082 non-null  datetime64[ns]\n",
      " 2   avg_temp    53884 non-null  float64       \n",
      " 3   min_temp    53898 non-null  float64       \n",
      " 4   max_temp    53902 non-null  float64       \n",
      " 5   day_pre     41041 non-null  float64       \n",
      " 6   max_wspeed  53857 non-null  float64       \n",
      " 7   avg_wspeed  53705 non-null  float64       \n",
      "dtypes: datetime64[ns](1), float64(6), object(1)\n",
      "memory usage: 3.7+ MB\n"
     ]
    }
   ],
   "source": [
    "df_wea.info()"
   ]
  },
  {
   "cell_type": "code",
   "execution_count": 205,
   "metadata": {},
   "outputs": [
    {
     "name": "stdout",
     "output_type": "stream",
     "text": [
      "<class 'pandas.core.frame.DataFrame'>\n",
      "RangeIndex: 6597 entries, 0 to 6596\n",
      "Data columns (total 14 columns):\n",
      " #   Column        Non-Null Count  Dtype         \n",
      "---  ------        --------------  -----         \n",
      " 0   법정동코드         6597 non-null   object        \n",
      " 1   신고시간          6597 non-null   datetime64[ns]\n",
      " 2   일시            6597 non-null   datetime64[ns]\n",
      " 3   발생장소_구        6597 non-null   object        \n",
      " 4   지점명           6597 non-null   object        \n",
      " 5   특보종류          6597 non-null   object        \n",
      " 6   1-연관 / 0-비연관  6597 non-null   float64       \n",
      " 7   avg_temp      6460 non-null   float64       \n",
      " 8   min_temp      6464 non-null   float64       \n",
      " 9   max_temp      6471 non-null   float64       \n",
      " 10  day_pre       6415 non-null   float64       \n",
      " 11  max_wspeed    6430 non-null   float64       \n",
      " 12  avg_wspeed    6413 non-null   float64       \n",
      " 13  year          6597 non-null   int32         \n",
      "dtypes: datetime64[ns](2), float64(7), int32(1), object(4)\n",
      "memory usage: 695.9+ KB\n"
     ]
    }
   ],
   "source": [
    "# 라벨데이터랑 merge후 결측치 확인 \n",
    "df_x = pd.merge(left=df_full, right=df_wea, on=['지점명', '일시'], how='left')\n",
    "df_x['year'] = df_x['일시'].dt.year\n",
    "df_x.info()"
   ]
  },
  {
   "cell_type": "code",
   "execution_count": 199,
   "metadata": {},
   "outputs": [],
   "source": [
    "# 결측값 처리 함수\n",
    "# 결측값이 아니면서 동일년도 +0, +1, +2 이면서 특보종류 같은 항목의 평균값으로 대체\n",
    "def handle_na(df, col):\n",
    "    for idx in list(df.loc[df[col].isna()].index):\n",
    "        if pd.isna(df.loc[idx, col]):\n",
    "            df.loc[idx, col] = df_x.loc[(\n",
    "                ~df[col].isna()) & \n",
    "                (df['특보종류'] == df.loc[idx, \"특보종류\"]) & \n",
    "                ((df['year'] == df.loc[idx, \"year\"] + 1) | \n",
    "                (df['year'] == df.loc[idx, \"year\"] + 2) |\n",
    "                (df['year'] == df.loc[idx, \"year\"])), col\n",
    "            ].mean()\n",
    "\n"
   ]
  },
  {
   "cell_type": "code",
   "execution_count": 206,
   "metadata": {},
   "outputs": [],
   "source": [
    "# 결측값 전부 처리\n",
    "for col in [\"avg_temp\", \"min_temp\", \"max_temp\", \"day_pre\", \"max_wspeed\", \"avg_wspeed\"]:\n",
    "    handle_na(df_x, col)"
   ]
  },
  {
   "cell_type": "code",
   "execution_count": 305,
   "metadata": {},
   "outputs": [],
   "source": [
    "# 인구데이터 처리\n",
    "df_pop = pd.read_excel(\"data/population_full.xlsx\")\n",
    "df_pop['발생장소_동'] = df_pop['발생장소_동'].apply(lambda x: x.lstrip())"
   ]
  },
  {
   "cell_type": "code",
   "execution_count": 306,
   "metadata": {},
   "outputs": [],
   "source": [
    "df_pop['법정동명'] = df_pop['발생장소_시'] + \" \" + df_pop['발생장소_구'] + \" \" + df_pop['발생장소_동']"
   ]
  },
  {
   "cell_type": "code",
   "execution_count": 312,
   "metadata": {},
   "outputs": [],
   "source": [
    "code_set = set(chgnam_code['법정동명'].values)\n",
    "pop_set = set(df_pop['법정동명'].values)"
   ]
  },
  {
   "cell_type": "code",
   "execution_count": 265,
   "metadata": {},
   "outputs": [],
   "source": [
    "A = set.difference(code_set, pop_set)"
   ]
  },
  {
   "cell_type": "code",
   "execution_count": 267,
   "metadata": {},
   "outputs": [],
   "source": [
    "with open(\"unmatched.txt\", \"w\") as f:\n",
    "    for address in A:\n",
    "        f.write(address + \"\\n\")"
   ]
  },
  {
   "cell_type": "code",
   "execution_count": 313,
   "metadata": {},
   "outputs": [],
   "source": [
    "intersection = list(set.intersection(code_set, pop_set))"
   ]
  },
  {
   "cell_type": "code",
   "execution_count": 320,
   "metadata": {},
   "outputs": [],
   "source": [
    "for i in range(2014, 2024):\n",
    "    chgnam_code[i] = 0"
   ]
  },
  {
   "cell_type": "code",
   "execution_count": 334,
   "metadata": {},
   "outputs": [],
   "source": [
    "for address in intersection:\n",
    "    #print(address)\n",
    "    for i in range(2014, 2024):\n",
    "        #print(df_pop.loc[df_pop['법정동명'] == address, i].tolist())\n",
    "        chgnam_code.loc[\n",
    "            chgnam_code['법정동명'] == address, i\n",
    "        ] = df_pop.loc[df_pop['법정동명'] == address, i].tolist()[0]\n",
    "    # print(df_pop.loc[df_pop['법정동명'] == address, [i for i in range(2014, 2024)]])"
   ]
  },
  {
   "cell_type": "code",
   "execution_count": 337,
   "metadata": {},
   "outputs": [],
   "source": [
    "chgnam_code.to_excel('saved.xlsx')"
   ]
  },
  {
   "cell_type": "code",
   "execution_count": 335,
   "metadata": {},
   "outputs": [
    {
     "data": {
      "text/html": [
       "<div>\n",
       "<style scoped>\n",
       "    .dataframe tbody tr th:only-of-type {\n",
       "        vertical-align: middle;\n",
       "    }\n",
       "\n",
       "    .dataframe tbody tr th {\n",
       "        vertical-align: top;\n",
       "    }\n",
       "\n",
       "    .dataframe thead th {\n",
       "        text-align: right;\n",
       "    }\n",
       "</style>\n",
       "<table border=\"1\" class=\"dataframe\">\n",
       "  <thead>\n",
       "    <tr style=\"text-align: right;\">\n",
       "      <th></th>\n",
       "      <th>법정동코드</th>\n",
       "      <th>법정동명</th>\n",
       "      <th>2014</th>\n",
       "      <th>2015</th>\n",
       "      <th>2016</th>\n",
       "      <th>2017</th>\n",
       "      <th>2018</th>\n",
       "      <th>2019</th>\n",
       "      <th>2020</th>\n",
       "      <th>2021</th>\n",
       "      <th>2022</th>\n",
       "      <th>2023</th>\n",
       "    </tr>\n",
       "  </thead>\n",
       "  <tbody>\n",
       "    <tr>\n",
       "      <th>0</th>\n",
       "      <td>44131101</td>\n",
       "      <td>충청남도 천안시 동남구 대흥동</td>\n",
       "      <td>0.0</td>\n",
       "      <td>0.0</td>\n",
       "      <td>0.0</td>\n",
       "      <td>0.0</td>\n",
       "      <td>0.0</td>\n",
       "      <td>0.0</td>\n",
       "      <td>0.0</td>\n",
       "      <td>0.0</td>\n",
       "      <td>0.0</td>\n",
       "      <td>0.0</td>\n",
       "    </tr>\n",
       "    <tr>\n",
       "      <th>1</th>\n",
       "      <td>44131102</td>\n",
       "      <td>충청남도 천안시 동남구 성황동</td>\n",
       "      <td>0.0</td>\n",
       "      <td>0.0</td>\n",
       "      <td>0.0</td>\n",
       "      <td>0.0</td>\n",
       "      <td>0.0</td>\n",
       "      <td>0.0</td>\n",
       "      <td>0.0</td>\n",
       "      <td>0.0</td>\n",
       "      <td>0.0</td>\n",
       "      <td>0.0</td>\n",
       "    </tr>\n",
       "    <tr>\n",
       "      <th>2</th>\n",
       "      <td>44131103</td>\n",
       "      <td>충청남도 천안시 동남구 문화동</td>\n",
       "      <td>0.0</td>\n",
       "      <td>0.0</td>\n",
       "      <td>0.0</td>\n",
       "      <td>0.0</td>\n",
       "      <td>0.0</td>\n",
       "      <td>0.0</td>\n",
       "      <td>0.0</td>\n",
       "      <td>0.0</td>\n",
       "      <td>0.0</td>\n",
       "      <td>0.0</td>\n",
       "    </tr>\n",
       "    <tr>\n",
       "      <th>3</th>\n",
       "      <td>44131104</td>\n",
       "      <td>충청남도 천안시 동남구 사직동</td>\n",
       "      <td>0.0</td>\n",
       "      <td>0.0</td>\n",
       "      <td>0.0</td>\n",
       "      <td>0.0</td>\n",
       "      <td>0.0</td>\n",
       "      <td>0.0</td>\n",
       "      <td>0.0</td>\n",
       "      <td>0.0</td>\n",
       "      <td>0.0</td>\n",
       "      <td>0.0</td>\n",
       "    </tr>\n",
       "    <tr>\n",
       "      <th>4</th>\n",
       "      <td>44131105</td>\n",
       "      <td>충청남도 천안시 동남구 영성동</td>\n",
       "      <td>0.0</td>\n",
       "      <td>0.0</td>\n",
       "      <td>0.0</td>\n",
       "      <td>0.0</td>\n",
       "      <td>0.0</td>\n",
       "      <td>0.0</td>\n",
       "      <td>0.0</td>\n",
       "      <td>0.0</td>\n",
       "      <td>0.0</td>\n",
       "      <td>0.0</td>\n",
       "    </tr>\n",
       "    <tr>\n",
       "      <th>...</th>\n",
       "      <td>...</td>\n",
       "      <td>...</td>\n",
       "      <td>...</td>\n",
       "      <td>...</td>\n",
       "      <td>...</td>\n",
       "      <td>...</td>\n",
       "      <td>...</td>\n",
       "      <td>...</td>\n",
       "      <td>...</td>\n",
       "      <td>...</td>\n",
       "      <td>...</td>\n",
       "      <td>...</td>\n",
       "    </tr>\n",
       "    <tr>\n",
       "      <th>280</th>\n",
       "      <td>44825320</td>\n",
       "      <td>충청남도 태안군 남면</td>\n",
       "      <td>4408.0</td>\n",
       "      <td>4599.0</td>\n",
       "      <td>4669.0</td>\n",
       "      <td>4639.0</td>\n",
       "      <td>4682.0</td>\n",
       "      <td>4589.0</td>\n",
       "      <td>4363.0</td>\n",
       "      <td>4278.0</td>\n",
       "      <td>4206.0</td>\n",
       "      <td>4271.0</td>\n",
       "    </tr>\n",
       "    <tr>\n",
       "      <th>281</th>\n",
       "      <td>44825330</td>\n",
       "      <td>충청남도 태안군 근흥면</td>\n",
       "      <td>5785.0</td>\n",
       "      <td>5714.0</td>\n",
       "      <td>5686.0</td>\n",
       "      <td>5708.0</td>\n",
       "      <td>5642.0</td>\n",
       "      <td>5481.0</td>\n",
       "      <td>5386.0</td>\n",
       "      <td>5412.0</td>\n",
       "      <td>5395.0</td>\n",
       "      <td>5363.0</td>\n",
       "    </tr>\n",
       "    <tr>\n",
       "      <th>282</th>\n",
       "      <td>44825340</td>\n",
       "      <td>충청남도 태안군 소원면</td>\n",
       "      <td>5691.0</td>\n",
       "      <td>5651.0</td>\n",
       "      <td>5595.0</td>\n",
       "      <td>5557.0</td>\n",
       "      <td>5490.0</td>\n",
       "      <td>5390.0</td>\n",
       "      <td>5372.0</td>\n",
       "      <td>5365.0</td>\n",
       "      <td>5349.0</td>\n",
       "      <td>5287.0</td>\n",
       "    </tr>\n",
       "    <tr>\n",
       "      <th>283</th>\n",
       "      <td>44825350</td>\n",
       "      <td>충청남도 태안군 원북면</td>\n",
       "      <td>4993.0</td>\n",
       "      <td>5002.0</td>\n",
       "      <td>4584.0</td>\n",
       "      <td>4601.0</td>\n",
       "      <td>4579.0</td>\n",
       "      <td>4521.0</td>\n",
       "      <td>4433.0</td>\n",
       "      <td>4345.0</td>\n",
       "      <td>4373.0</td>\n",
       "      <td>4374.0</td>\n",
       "    </tr>\n",
       "    <tr>\n",
       "      <th>284</th>\n",
       "      <td>44825360</td>\n",
       "      <td>충청남도 태안군 이원면</td>\n",
       "      <td>2410.0</td>\n",
       "      <td>2380.0</td>\n",
       "      <td>2390.0</td>\n",
       "      <td>2397.0</td>\n",
       "      <td>2383.0</td>\n",
       "      <td>2315.0</td>\n",
       "      <td>2296.0</td>\n",
       "      <td>2239.0</td>\n",
       "      <td>2202.0</td>\n",
       "      <td>2200.0</td>\n",
       "    </tr>\n",
       "  </tbody>\n",
       "</table>\n",
       "<p>285 rows × 12 columns</p>\n",
       "</div>"
      ],
      "text/plain": [
       "        법정동코드              법정동명    2014    2015    2016    2017    2018  \\\n",
       "0    44131101  충청남도 천안시 동남구 대흥동     0.0     0.0     0.0     0.0     0.0   \n",
       "1    44131102  충청남도 천안시 동남구 성황동     0.0     0.0     0.0     0.0     0.0   \n",
       "2    44131103  충청남도 천안시 동남구 문화동     0.0     0.0     0.0     0.0     0.0   \n",
       "3    44131104  충청남도 천안시 동남구 사직동     0.0     0.0     0.0     0.0     0.0   \n",
       "4    44131105  충청남도 천안시 동남구 영성동     0.0     0.0     0.0     0.0     0.0   \n",
       "..        ...               ...     ...     ...     ...     ...     ...   \n",
       "280  44825320       충청남도 태안군 남면  4408.0  4599.0  4669.0  4639.0  4682.0   \n",
       "281  44825330      충청남도 태안군 근흥면  5785.0  5714.0  5686.0  5708.0  5642.0   \n",
       "282  44825340      충청남도 태안군 소원면  5691.0  5651.0  5595.0  5557.0  5490.0   \n",
       "283  44825350      충청남도 태안군 원북면  4993.0  5002.0  4584.0  4601.0  4579.0   \n",
       "284  44825360      충청남도 태안군 이원면  2410.0  2380.0  2390.0  2397.0  2383.0   \n",
       "\n",
       "       2019    2020    2021    2022    2023  \n",
       "0       0.0     0.0     0.0     0.0     0.0  \n",
       "1       0.0     0.0     0.0     0.0     0.0  \n",
       "2       0.0     0.0     0.0     0.0     0.0  \n",
       "3       0.0     0.0     0.0     0.0     0.0  \n",
       "4       0.0     0.0     0.0     0.0     0.0  \n",
       "..      ...     ...     ...     ...     ...  \n",
       "280  4589.0  4363.0  4278.0  4206.0  4271.0  \n",
       "281  5481.0  5386.0  5412.0  5395.0  5363.0  \n",
       "282  5390.0  5372.0  5365.0  5349.0  5287.0  \n",
       "283  4521.0  4433.0  4345.0  4373.0  4374.0  \n",
       "284  2315.0  2296.0  2239.0  2202.0  2200.0  \n",
       "\n",
       "[285 rows x 12 columns]"
      ]
     },
     "execution_count": 335,
     "metadata": {},
     "output_type": "execute_result"
    }
   ],
   "source": [
    "chgnam_code"
   ]
  }
 ],
 "metadata": {
  "kernelspec": {
   "display_name": "base",
   "language": "python",
   "name": "python3"
  },
  "language_info": {
   "codemirror_mode": {
    "name": "ipython",
    "version": 3
   },
   "file_extension": ".py",
   "mimetype": "text/x-python",
   "name": "python",
   "nbconvert_exporter": "python",
   "pygments_lexer": "ipython3",
   "version": "3.11.7"
  }
 },
 "nbformat": 4,
 "nbformat_minor": 2
}
