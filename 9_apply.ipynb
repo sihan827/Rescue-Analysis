{
 "cells": [
  {
   "cell_type": "code",
   "execution_count": 240,
   "metadata": {},
   "outputs": [],
   "source": [
    "import os\n",
    "import numpy as np\n",
    "import pandas as pd"
   ]
  },
  {
   "cell_type": "markdown",
   "metadata": {},
   "source": [
    "## 실제 호우로 인한 출동 데이터와의 비교\n",
    "- 2024년 6~7월 간 실제 호우로 인해 발생한 출동데이터 취합\n",
    "- 학습모델을 통해 예측한 지역별 출동확률과 비교\n",
    "  - 전체 실제 출동 중 확률이 20% 이상인 곳에 얼마나 많이 걸치나 측정\n",
    "  - 전체 실제 출동 중에 각 시군구별로 확률이 상위 4개의 지역에 실제 출동이 얼마나 많이 걸치나 측정\n",
    "  - 전체 실제 출동 중에 각 시군구별로 확률이 상위 4개의 지역에 실제 출동이 얼마나 많이 걸치나 측정"
   ]
  },
  {
   "cell_type": "code",
   "execution_count": 241,
   "metadata": {},
   "outputs": [
    {
     "name": "stdout",
     "output_type": "stream",
     "text": [
      "<class 'pandas.core.frame.DataFrame'>\n",
      "RangeIndex: 990 entries, 0 to 989\n",
      "Data columns (total 5 columns):\n",
      " #   Column    Non-Null Count  Dtype \n",
      "---  ------    --------------  ----- \n",
      " 0   기상특보(선택)  819 non-null    object\n",
      " 1   도         990 non-null    object\n",
      " 2   시군        990 non-null    object\n",
      " 3   읍면동       990 non-null    object\n",
      " 4   사망(명)     309 non-null    object\n",
      "dtypes: object(5)\n",
      "memory usage: 38.8+ KB\n"
     ]
    }
   ],
   "source": [
    "# 2024년 지역별 호우 출동데이터 불러오기\n",
    "sectors = os.listdir('data/2024_real_rescue')\n",
    "columns = [\n",
    "    '기상특보(선택)', '도', '시군', '읍면동', '사망(명)'\n",
    "]\n",
    "\n",
    "df_sector_list = []\n",
    "\n",
    "for sector in sectors:\n",
    "    path = 'data/2024_real_rescue/' + sector\n",
    "    df_sector = pd.read_excel(path, sheet_name=None, engine='openpyxl')['Sheet1']\n",
    "    if '동남구' in sector:\n",
    "        df_sector['시군'] = df_sector['시군'] + ' ' + '동남구'\n",
    "    if '서북구' in sector:\n",
    "        df_sector['시군'] = df_sector['시군'] + ' ' + '서북구'\n",
    "    df_sector_list.append(df_sector.loc[:, columns])\n",
    "\n",
    "df_2024_rescue = pd.concat(df_sector_list)\n",
    "df_2024_rescue.reset_index(drop=True, inplace=True)\n",
    "df_2024_rescue.info()"
   ]
  },
  {
   "cell_type": "code",
   "execution_count": 242,
   "metadata": {},
   "outputs": [
    {
     "name": "stdout",
     "output_type": "stream",
     "text": [
      "<class 'pandas.core.frame.DataFrame'>\n",
      "RangeIndex: 192 entries, 0 to 191\n",
      "Data columns (total 2 columns):\n",
      " #   Column  Non-Null Count  Dtype \n",
      "---  ------  --------------  ----- \n",
      " 0   법정동명    192 non-null    object\n",
      " 1   출동횟수    192 non-null    int64 \n",
      "dtypes: int64(1), object(1)\n",
      "memory usage: 3.1+ KB\n"
     ]
    }
   ],
   "source": [
    "# 지역별 출동횟수 세기\n",
    "df_2024_rescue['기상특보(선택)'].fillna('없음', inplace=True)\n",
    "df_2024_rescue['사망(명)'].fillna(0, inplace=True)\n",
    "df_2024_rescue['법정동명'] = df_2024_rescue['도'] + ' ' + df_2024_rescue['시군'] + ' ' + df_2024_rescue['읍면동']\n",
    "# df_2024_rescue['법정동명'] = ''\n",
    "# df_2024_rescue['법정동코드'] = 0\n",
    "# df_2024_rescue.rename(columns={\n",
    "#     '기상특보(선택)': 'WARNING', \n",
    "# })\n",
    "df_2024_rescue = df_2024_rescue.groupby('법정동명').count().reset_index()\n",
    "df_2024_rescue = df_2024_rescue.loc[:, ['법정동명', '기상특보(선택)']]\n",
    "df_2024_rescue.rename(columns={'기상특보(선택)': '출동횟수'}, inplace=True)\n",
    "df_2024_rescue.info()"
   ]
  },
  {
   "cell_type": "code",
   "execution_count": 244,
   "metadata": {},
   "outputs": [
    {
     "name": "stdout",
     "output_type": "stream",
     "text": [
      "285\n"
     ]
    },
    {
     "data": {
      "text/html": [
       "<div>\n",
       "<style scoped>\n",
       "    .dataframe tbody tr th:only-of-type {\n",
       "        vertical-align: middle;\n",
       "    }\n",
       "\n",
       "    .dataframe tbody tr th {\n",
       "        vertical-align: top;\n",
       "    }\n",
       "\n",
       "    .dataframe thead th {\n",
       "        text-align: right;\n",
       "    }\n",
       "</style>\n",
       "<table border=\"1\" class=\"dataframe\">\n",
       "  <thead>\n",
       "    <tr style=\"text-align: right;\">\n",
       "      <th></th>\n",
       "      <th>법정동코드</th>\n",
       "      <th>법정동명</th>\n",
       "    </tr>\n",
       "  </thead>\n",
       "  <tbody>\n",
       "    <tr>\n",
       "      <th>0</th>\n",
       "      <td>44131101</td>\n",
       "      <td>충청남도 천안시 동남구 대흥동</td>\n",
       "    </tr>\n",
       "    <tr>\n",
       "      <th>1</th>\n",
       "      <td>44131102</td>\n",
       "      <td>충청남도 천안시 동남구 성황동</td>\n",
       "    </tr>\n",
       "    <tr>\n",
       "      <th>2</th>\n",
       "      <td>44131103</td>\n",
       "      <td>충청남도 천안시 동남구 문화동</td>\n",
       "    </tr>\n",
       "  </tbody>\n",
       "</table>\n",
       "</div>"
      ],
      "text/plain": [
       "      법정동코드              법정동명\n",
       "0  44131101  충청남도 천안시 동남구 대흥동\n",
       "1  44131102  충청남도 천안시 동남구 성황동\n",
       "2  44131103  충청남도 천안시 동남구 문화동"
      ]
     },
     "execution_count": 244,
     "metadata": {},
     "output_type": "execute_result"
    }
   ],
   "source": [
    "# 법정동코드 데이터 불러오기 후 읍면동 단위로 정제\n",
    "law_code = pd.read_table(\"data/법정동코드 전체자료.txt\", sep='\\t', encoding='cp949')\n",
    "law_code = law_code[law_code['법정동코드'].apply(lambda x: str(x).startswith('44'))]\n",
    "law_code = law_code[law_code['폐지여부'] == '존재']\n",
    "law_code = law_code[law_code['법정동명'].apply(lambda x: x[-1] in ('읍', '면', '동'))]\n",
    "law_code.loc[:, '법정동코드'] = law_code.loc[:, '법정동코드'].apply(lambda x: str(x)[:-2])\n",
    "law_code.reset_index(drop=True, inplace=True)\n",
    "law_code.drop(columns='폐지여부', inplace=True)\n",
    "print(len(law_code))\n",
    "law_code.head(3)"
   ]
  },
  {
   "cell_type": "code",
   "execution_count": 245,
   "metadata": {},
   "outputs": [
    {
     "name": "stdout",
     "output_type": "stream",
     "text": [
      "<class 'pandas.core.frame.DataFrame'>\n",
      "Int64Index: 294 entries, 0 to 293\n",
      "Data columns (total 3 columns):\n",
      " #   Column  Non-Null Count  Dtype  \n",
      "---  ------  --------------  -----  \n",
      " 0   법정동코드   285 non-null    object \n",
      " 1   법정동명    294 non-null    object \n",
      " 2   출동횟수    294 non-null    float64\n",
      "dtypes: float64(1), object(2)\n",
      "memory usage: 9.2+ KB\n"
     ]
    }
   ],
   "source": [
    "# 출동횟수 데이터랑 법정동코드 데이터랑 merge\n",
    "df_rescue = pd.merge(law_code, df_2024_rescue, how='outer', on='법정동명')\n",
    "df_rescue['출동횟수'].fillna(0, inplace=True)\n",
    "df_rescue.info()"
   ]
  },
  {
   "cell_type": "code",
   "execution_count": 246,
   "metadata": {},
   "outputs": [
    {
     "data": {
      "text/html": [
       "<div>\n",
       "<style scoped>\n",
       "    .dataframe tbody tr th:only-of-type {\n",
       "        vertical-align: middle;\n",
       "    }\n",
       "\n",
       "    .dataframe tbody tr th {\n",
       "        vertical-align: top;\n",
       "    }\n",
       "\n",
       "    .dataframe thead th {\n",
       "        text-align: right;\n",
       "    }\n",
       "</style>\n",
       "<table border=\"1\" class=\"dataframe\">\n",
       "  <thead>\n",
       "    <tr style=\"text-align: right;\">\n",
       "      <th></th>\n",
       "      <th>법정동코드</th>\n",
       "      <th>법정동명</th>\n",
       "      <th>출동횟수</th>\n",
       "    </tr>\n",
       "  </thead>\n",
       "  <tbody>\n",
       "    <tr>\n",
       "      <th>285</th>\n",
       "      <td>NaN</td>\n",
       "      <td>충청남도 금산군 금산읍</td>\n",
       "      <td>1.0</td>\n",
       "    </tr>\n",
       "    <tr>\n",
       "      <th>286</th>\n",
       "      <td>NaN</td>\n",
       "      <td>충청남도 논산시 양촌면</td>\n",
       "      <td>9.0</td>\n",
       "    </tr>\n",
       "    <tr>\n",
       "      <th>287</th>\n",
       "      <td>NaN</td>\n",
       "      <td>충청남도 논산시 연무읍</td>\n",
       "      <td>1.0</td>\n",
       "    </tr>\n",
       "    <tr>\n",
       "      <th>288</th>\n",
       "      <td>NaN</td>\n",
       "      <td>충청남도 논산시 엽무읍</td>\n",
       "      <td>1.0</td>\n",
       "    </tr>\n",
       "    <tr>\n",
       "      <th>289</th>\n",
       "      <td>NaN</td>\n",
       "      <td>충청남도 부여군 귱암면</td>\n",
       "      <td>1.0</td>\n",
       "    </tr>\n",
       "    <tr>\n",
       "      <th>290</th>\n",
       "      <td>NaN</td>\n",
       "      <td>충청남도 서천군 한산읍</td>\n",
       "      <td>1.0</td>\n",
       "    </tr>\n",
       "    <tr>\n",
       "      <th>291</th>\n",
       "      <td>NaN</td>\n",
       "      <td>충청남도 천안시 동남구 목천읍</td>\n",
       "      <td>1.0</td>\n",
       "    </tr>\n",
       "    <tr>\n",
       "      <th>292</th>\n",
       "      <td>NaN</td>\n",
       "      <td>충청남도 천안시 동남구 신부동</td>\n",
       "      <td>4.0</td>\n",
       "    </tr>\n",
       "    <tr>\n",
       "      <th>293</th>\n",
       "      <td>NaN</td>\n",
       "      <td>충청남도 천안시 서북구 다가동</td>\n",
       "      <td>1.0</td>\n",
       "    </tr>\n",
       "  </tbody>\n",
       "</table>\n",
       "</div>"
      ],
      "text/plain": [
       "    법정동코드               법정동명  출동횟수\n",
       "285   NaN      충청남도 금산군 금산읍    1.0\n",
       "286   NaN      충청남도 논산시 양촌면    9.0\n",
       "287   NaN     충청남도 논산시 연무읍     1.0\n",
       "288   NaN       충청남도 논산시 엽무읍   1.0\n",
       "289   NaN       충청남도 부여군 귱암면   1.0\n",
       "290   NaN       충청남도 서천군 한산읍   1.0\n",
       "291   NaN  충청남도 천안시 동남구 목천읍    1.0\n",
       "292   NaN  충청남도 천안시 동남구 신부동    4.0\n",
       "293   NaN   충청남도 천안시 서북구 다가동   1.0"
      ]
     },
     "execution_count": 246,
     "metadata": {},
     "output_type": "execute_result"
    }
   ],
   "source": [
    "# 법정동코드가 결측치인 행 찾기\n",
    "df_rescue[df_rescue['법정동코드'].isna()]"
   ]
  },
  {
   "cell_type": "code",
   "execution_count": 247,
   "metadata": {},
   "outputs": [],
   "source": [
    "# 법정동명에 공백이 포함되거나 오타가 있는 경우 법정동코드에 결측치가 생김\n",
    "# 개수가 적으므로 하나씩 직접 수정\n",
    "df_rescue.loc[285, '법정동명'] = df_rescue.loc[285, '법정동명'].rstrip()\n",
    "df_rescue.loc[286, '법정동명'] = df_rescue.loc[286, '법정동명'].rstrip()\n",
    "df_rescue.loc[287, '법정동명'] = df_rescue.loc[287, '법정동명'].rstrip()\n",
    "df_rescue.loc[288, '법정동명'] = '충청남도 논산시 연무읍'\n",
    "df_rescue.loc[289, '법정동명'] = '충청남도 부여군 규암면'\n",
    "df_rescue.loc[290, '법정동명'] = '충청남도 서천군 한산면'\n",
    "df_rescue.loc[291, '법정동명'] = df_rescue.loc[291, '법정동명'].rstrip()\n",
    "df_rescue.loc[292, '법정동명'] = df_rescue.loc[292, '법정동명'].rstrip()\n",
    "df_rescue.loc[293, '법정동명'] = '충청남도 천안시 동남구 다가동'"
   ]
  },
  {
   "cell_type": "code",
   "execution_count": 248,
   "metadata": {},
   "outputs": [
    {
     "name": "stdout",
     "output_type": "stream",
     "text": [
      "<class 'pandas.core.frame.DataFrame'>\n",
      "RangeIndex: 285 entries, 0 to 284\n",
      "Data columns (total 3 columns):\n",
      " #   Column      Non-Null Count  Dtype  \n",
      "---  ------      --------------  -----  \n",
      " 0   EMD_CD      285 non-null    object \n",
      " 1   EMD_KOR_NM  285 non-null    object \n",
      " 2   RES         285 non-null    float64\n",
      "dtypes: float64(1), object(2)\n",
      "memory usage: 6.8+ KB\n"
     ]
    }
   ],
   "source": [
    "# 수정 이후 법정동코드별로 출동횟수 합하기\n",
    "df_rescue = df_rescue.groupby(['법정동코드', '법정동명']).sum().reset_index()\n",
    "df_rescue.rename(columns={'법정동코드': 'EMD_CD', '법정동명': 'EMD_KOR_NM', '출동횟수': 'RES'}, inplace=True)\n",
    "df_rescue.info()"
   ]
  },
  {
   "cell_type": "code",
   "execution_count": 249,
   "metadata": {},
   "outputs": [
    {
     "data": {
      "text/html": [
       "<div>\n",
       "<style scoped>\n",
       "    .dataframe tbody tr th:only-of-type {\n",
       "        vertical-align: middle;\n",
       "    }\n",
       "\n",
       "    .dataframe tbody tr th {\n",
       "        vertical-align: top;\n",
       "    }\n",
       "\n",
       "    .dataframe thead th {\n",
       "        text-align: right;\n",
       "    }\n",
       "</style>\n",
       "<table border=\"1\" class=\"dataframe\">\n",
       "  <thead>\n",
       "    <tr style=\"text-align: right;\">\n",
       "      <th></th>\n",
       "      <th>EMD_CD</th>\n",
       "      <th>EMD_KOR_NM</th>\n",
       "      <th>RESCUE_PROB</th>\n",
       "      <th>DEATH</th>\n",
       "      <th>DAM</th>\n",
       "    </tr>\n",
       "  </thead>\n",
       "  <tbody>\n",
       "    <tr>\n",
       "      <th>0</th>\n",
       "      <td>44230400</td>\n",
       "      <td>충청남도 논산시 가야곡면</td>\n",
       "      <td>0.334279</td>\n",
       "      <td>0</td>\n",
       "      <td>0</td>\n",
       "    </tr>\n",
       "    <tr>\n",
       "      <th>1</th>\n",
       "      <td>44210103</td>\n",
       "      <td>충청남도 서산시 갈산동</td>\n",
       "      <td>0.286383</td>\n",
       "      <td>0</td>\n",
       "      <td>0</td>\n",
       "    </tr>\n",
       "    <tr>\n",
       "      <th>2</th>\n",
       "      <td>44800380</td>\n",
       "      <td>충청남도 홍성군 갈산면</td>\n",
       "      <td>0.057232</td>\n",
       "      <td>0</td>\n",
       "      <td>0</td>\n",
       "    </tr>\n",
       "    <tr>\n",
       "      <th>3</th>\n",
       "      <td>44230250</td>\n",
       "      <td>충청남도 논산시 강경읍</td>\n",
       "      <td>0.268393</td>\n",
       "      <td>0</td>\n",
       "      <td>1</td>\n",
       "    </tr>\n",
       "    <tr>\n",
       "      <th>4</th>\n",
       "      <td>44230110</td>\n",
       "      <td>충청남도 논산시 강산동</td>\n",
       "      <td>0.096039</td>\n",
       "      <td>0</td>\n",
       "      <td>0</td>\n",
       "    </tr>\n",
       "  </tbody>\n",
       "</table>\n",
       "</div>"
      ],
      "text/plain": [
       "     EMD_CD     EMD_KOR_NM  RESCUE_PROB  DEATH  DAM\n",
       "0  44230400  충청남도 논산시 가야곡면     0.334279      0    0\n",
       "1  44210103   충청남도 서산시 갈산동     0.286383      0    0\n",
       "2  44800380   충청남도 홍성군 갈산면     0.057232      0    0\n",
       "3  44230250   충청남도 논산시 강경읍     0.268393      0    1\n",
       "4  44230110   충청남도 논산시 강산동     0.096039      0    0"
      ]
     },
     "execution_count": 249,
     "metadata": {},
     "output_type": "execute_result"
    }
   ],
   "source": [
    "# 지역별 출동예측확률 불러오기\n",
    "import geopandas as gpd\n",
    "\n",
    "columns = ['EMD_CD', 'EMD_KOR_NM', 'RESCUE_PROB', 'DEATH', 'DAM']\n",
    "\n",
    "df_predict = gpd.read_file('./web_data/emd_pp.json', encoding='cp949').loc[:, columns]\n",
    "df_predict.head()"
   ]
  },
  {
   "cell_type": "code",
   "execution_count": 256,
   "metadata": {},
   "outputs": [
    {
     "data": {
      "text/html": [
       "<div>\n",
       "<style scoped>\n",
       "    .dataframe tbody tr th:only-of-type {\n",
       "        vertical-align: middle;\n",
       "    }\n",
       "\n",
       "    .dataframe tbody tr th {\n",
       "        vertical-align: top;\n",
       "    }\n",
       "\n",
       "    .dataframe thead th {\n",
       "        text-align: right;\n",
       "    }\n",
       "</style>\n",
       "<table border=\"1\" class=\"dataframe\">\n",
       "  <thead>\n",
       "    <tr style=\"text-align: right;\">\n",
       "      <th></th>\n",
       "      <th>EMD_CD</th>\n",
       "      <th>EMD_KOR_NM</th>\n",
       "      <th>RES</th>\n",
       "      <th>RESCUE_PROB</th>\n",
       "      <th>DEATH</th>\n",
       "      <th>DAM</th>\n",
       "    </tr>\n",
       "  </thead>\n",
       "  <tbody>\n",
       "    <tr>\n",
       "      <th>0</th>\n",
       "      <td>44131101</td>\n",
       "      <td>충청남도 천안시 동남구 대흥동</td>\n",
       "      <td>1.0</td>\n",
       "      <td>0.176888</td>\n",
       "      <td>0</td>\n",
       "      <td>0</td>\n",
       "    </tr>\n",
       "    <tr>\n",
       "      <th>1</th>\n",
       "      <td>44131102</td>\n",
       "      <td>충청남도 천안시 동남구 성황동</td>\n",
       "      <td>0.0</td>\n",
       "      <td>0.118649</td>\n",
       "      <td>0</td>\n",
       "      <td>0</td>\n",
       "    </tr>\n",
       "    <tr>\n",
       "      <th>2</th>\n",
       "      <td>44131103</td>\n",
       "      <td>충청남도 천안시 동남구 문화동</td>\n",
       "      <td>0.0</td>\n",
       "      <td>0.510843</td>\n",
       "      <td>0</td>\n",
       "      <td>0</td>\n",
       "    </tr>\n",
       "    <tr>\n",
       "      <th>3</th>\n",
       "      <td>44131104</td>\n",
       "      <td>충청남도 천안시 동남구 사직동</td>\n",
       "      <td>0.0</td>\n",
       "      <td>0.403644</td>\n",
       "      <td>0</td>\n",
       "      <td>0</td>\n",
       "    </tr>\n",
       "    <tr>\n",
       "      <th>4</th>\n",
       "      <td>44131105</td>\n",
       "      <td>충청남도 천안시 동남구 영성동</td>\n",
       "      <td>1.0</td>\n",
       "      <td>0.179828</td>\n",
       "      <td>0</td>\n",
       "      <td>0</td>\n",
       "    </tr>\n",
       "  </tbody>\n",
       "</table>\n",
       "</div>"
      ],
      "text/plain": [
       "     EMD_CD        EMD_KOR_NM  RES  RESCUE_PROB  DEATH  DAM\n",
       "0  44131101  충청남도 천안시 동남구 대흥동  1.0     0.176888      0    0\n",
       "1  44131102  충청남도 천안시 동남구 성황동  0.0     0.118649      0    0\n",
       "2  44131103  충청남도 천안시 동남구 문화동  0.0     0.510843      0    0\n",
       "3  44131104  충청남도 천안시 동남구 사직동  0.0     0.403644      0    0\n",
       "4  44131105  충청남도 천안시 동남구 영성동  1.0     0.179828      0    0"
      ]
     },
     "execution_count": 256,
     "metadata": {},
     "output_type": "execute_result"
    }
   ],
   "source": [
    "# 출동예측확률과 실제 출동발생횟수 merge\n",
    "df_final = pd.merge(df_rescue, df_predict, how='inner', on=['EMD_CD', 'EMD_KOR_NM'])\n",
    "df_final.head()"
   ]
  },
  {
   "cell_type": "code",
   "execution_count": 297,
   "metadata": {},
   "outputs": [
    {
     "name": "stdout",
     "output_type": "stream",
     "text": [
      "전체 출동횟수: 970\n",
      "초록부분에 걸치는 출동횟수: 337\n",
      "비율: 0.3474226804123711\n"
     ]
    }
   ],
   "source": [
    "# 전체 실제 출동 중 확률이 20% 이상인 곳에 얼마나 많이 걸치나 측정\n",
    "df_final_20 = df_final[df_final['RESCUE_PROB'] >= 0.20]\n",
    "print('전체 출동횟수:', int(df_final['RES'].sum()))\n",
    "print('초록부분에 걸치는 출동횟수:', int(df_final_20['RES'].sum()))\n",
    "print('비율:', df_final_20['RES'].sum() / df_final['RES'].sum())"
   ]
  },
  {
   "cell_type": "code",
   "execution_count": 273,
   "metadata": {},
   "outputs": [
    {
     "data": {
      "text/html": [
       "<div>\n",
       "<style scoped>\n",
       "    .dataframe tbody tr th:only-of-type {\n",
       "        vertical-align: middle;\n",
       "    }\n",
       "\n",
       "    .dataframe tbody tr th {\n",
       "        vertical-align: top;\n",
       "    }\n",
       "\n",
       "    .dataframe thead th {\n",
       "        text-align: right;\n",
       "    }\n",
       "</style>\n",
       "<table border=\"1\" class=\"dataframe\">\n",
       "  <thead>\n",
       "    <tr style=\"text-align: right;\">\n",
       "      <th></th>\n",
       "      <th>EMD_CD</th>\n",
       "      <th>EMD_KOR_NM</th>\n",
       "      <th>RES</th>\n",
       "      <th>RESCUE_PROB</th>\n",
       "      <th>DEATH</th>\n",
       "      <th>DAM</th>\n",
       "      <th>시군구</th>\n",
       "    </tr>\n",
       "  </thead>\n",
       "  <tbody>\n",
       "    <tr>\n",
       "      <th>0</th>\n",
       "      <td>44131101</td>\n",
       "      <td>충청남도 천안시 동남구 대흥동</td>\n",
       "      <td>1.0</td>\n",
       "      <td>0.176888</td>\n",
       "      <td>0</td>\n",
       "      <td>0</td>\n",
       "      <td>천안시 동남구</td>\n",
       "    </tr>\n",
       "    <tr>\n",
       "      <th>1</th>\n",
       "      <td>44131102</td>\n",
       "      <td>충청남도 천안시 동남구 성황동</td>\n",
       "      <td>0.0</td>\n",
       "      <td>0.118649</td>\n",
       "      <td>0</td>\n",
       "      <td>0</td>\n",
       "      <td>천안시 동남구</td>\n",
       "    </tr>\n",
       "    <tr>\n",
       "      <th>2</th>\n",
       "      <td>44131103</td>\n",
       "      <td>충청남도 천안시 동남구 문화동</td>\n",
       "      <td>0.0</td>\n",
       "      <td>0.510843</td>\n",
       "      <td>0</td>\n",
       "      <td>0</td>\n",
       "      <td>천안시 동남구</td>\n",
       "    </tr>\n",
       "    <tr>\n",
       "      <th>3</th>\n",
       "      <td>44131104</td>\n",
       "      <td>충청남도 천안시 동남구 사직동</td>\n",
       "      <td>0.0</td>\n",
       "      <td>0.403644</td>\n",
       "      <td>0</td>\n",
       "      <td>0</td>\n",
       "      <td>천안시 동남구</td>\n",
       "    </tr>\n",
       "    <tr>\n",
       "      <th>4</th>\n",
       "      <td>44131105</td>\n",
       "      <td>충청남도 천안시 동남구 영성동</td>\n",
       "      <td>1.0</td>\n",
       "      <td>0.179828</td>\n",
       "      <td>0</td>\n",
       "      <td>0</td>\n",
       "      <td>천안시 동남구</td>\n",
       "    </tr>\n",
       "  </tbody>\n",
       "</table>\n",
       "</div>"
      ],
      "text/plain": [
       "     EMD_CD        EMD_KOR_NM  RES  RESCUE_PROB  DEATH  DAM      시군구\n",
       "0  44131101  충청남도 천안시 동남구 대흥동  1.0     0.176888      0    0  천안시 동남구\n",
       "1  44131102  충청남도 천안시 동남구 성황동  0.0     0.118649      0    0  천안시 동남구\n",
       "2  44131103  충청남도 천안시 동남구 문화동  0.0     0.510843      0    0  천안시 동남구\n",
       "3  44131104  충청남도 천안시 동남구 사직동  0.0     0.403644      0    0  천안시 동남구\n",
       "4  44131105  충청남도 천안시 동남구 영성동  1.0     0.179828      0    0  천안시 동남구"
      ]
     },
     "execution_count": 273,
     "metadata": {},
     "output_type": "execute_result"
    }
   ],
   "source": [
    "# 시군구별 구분을 위해 시군구 컬럼 추가\n",
    "df_final['시군구'] = df_final['EMD_KOR_NM'].apply(\n",
    "    lambda x: x.split()[1] + \" \" + x.split()[2] if len(x.split()) == 4 else x.split()[1]\n",
    ")\n",
    "\n",
    "df_final.head()"
   ]
  },
  {
   "cell_type": "code",
   "execution_count": 298,
   "metadata": {},
   "outputs": [
    {
     "name": "stdout",
     "output_type": "stream",
     "text": [
      "전체 출동횟수: 970\n",
      "시군구별 상위 3지역에 걸치는 출동횟수: 184\n",
      "비율: 0.18969072164948453\n"
     ]
    }
   ],
   "source": [
    "# 전체 실제 출동 중에 각 시군구별로 확률이 상위 4개의 지역에 실제 출동이 얼마나 많이 걸치나 측정\n",
    "total_rescue = 0\n",
    "\n",
    "for s in set(df_final['시군구'].values.tolist()):\n",
    "    df_s = df_final[df_final['시군구'] == s].sort_values('RESCUE_PROB')[::-1][:3]\n",
    "    total_rescue += df_s['RES'].sum()\n",
    "\n",
    "\n",
    "print('전체 출동횟수:', int(df_final['RES'].sum()))\n",
    "print('시군구별 상위 3지역에 걸치는 출동횟수:', int(total_rescue))\n",
    "print('비율:', total_rescue / df_final['RES'].sum())"
   ]
  },
  {
   "cell_type": "code",
   "execution_count": 299,
   "metadata": {},
   "outputs": [
    {
     "name": "stdout",
     "output_type": "stream",
     "text": [
      "전체 출동횟수: 970\n",
      "시군구별 상위 4지역에 걸치는 출동횟수: 251\n",
      "비율: 0.25876288659793817\n"
     ]
    }
   ],
   "source": [
    "# 전체 실제 출동 중에 각 시군구별로 확률이 상위 4개의 지역에 실제 출동이 얼마나 많이 걸치나 측정\n",
    "total_rescue = 0\n",
    "\n",
    "for s in set(df_final['시군구'].values.tolist()):\n",
    "    df_s = df_final[df_final['시군구'] == s].sort_values('RESCUE_PROB')[::-1][:4]\n",
    "    total_rescue += df_s['RES'].sum()\n",
    "\n",
    "print('전체 출동횟수:', int(df_final['RES'].sum()))\n",
    "print('시군구별 상위 4지역에 걸치는 출동횟수:', int(total_rescue))\n",
    "print('비율:', total_rescue / df_final['RES'].sum())"
   ]
  }
 ],
 "metadata": {
  "kernelspec": {
   "display_name": "base",
   "language": "python",
   "name": "python3"
  },
  "language_info": {
   "codemirror_mode": {
    "name": "ipython",
    "version": 3
   },
   "file_extension": ".py",
   "mimetype": "text/x-python",
   "name": "python",
   "nbconvert_exporter": "python",
   "pygments_lexer": "ipython3",
   "version": "3.9.13"
  }
 },
 "nbformat": 4,
 "nbformat_minor": 2
}
